{
 "cells": [
  {
   "cell_type": "markdown",
   "metadata": {},
   "source": [
    "# Test the bitstring operations and size\n",
    "\n",
    "Things to test:\n",
    "1. Conversion from chars to bits\n",
    "2. Conversion from bits to chars\n",
    "3. Conversion from strings to bits\n",
    "4. Conversion from bits to strings"
   ]
  },
  {
   "cell_type": "markdown",
   "metadata": {},
   "source": [
    "## imports"
   ]
  },
  {
   "cell_type": "code",
   "execution_count": 1,
   "metadata": {},
   "outputs": [],
   "source": [
    "from bitstring import BitArray, Bits\n",
    "import sys"
   ]
  },
  {
   "cell_type": "markdown",
   "metadata": {},
   "source": [
    "### 1. char to bits"
   ]
  },
  {
   "cell_type": "code",
   "execution_count": 2,
   "metadata": {},
   "outputs": [],
   "source": [
    "char_to_bits = {\n",
    "    'A': b'00000',\n",
    "    'R': b'00001',\n",
    "    'N': b'00010',\n",
    "    'D': b'00011',\n",
    "    'C': b'00100',\n",
    "    'E': b'00101',\n",
    "    'Q': b'00110',\n",
    "    'G': b'00111',\n",
    "    'H': b'01000',\n",
    "    'I': b'01001',\n",
    "    'L': b'01010',\n",
    "    'K': b'01011',\n",
    "    'M': b'01100',\n",
    "    'F': b'01101',\n",
    "    'P': b'01110',\n",
    "    'S': b'01111',\n",
    "    'T': b'10000',\n",
    "    'U': b'10001',\n",
    "    'W': b'10010',\n",
    "    'Y': b'10011',\n",
    "    'V': b'10100',\n",
    "    'X': b'10101',\n",
    "    'B': b'10110', \n",
    "    'Z': b'10111'\n",
    "}"
   ]
  },
  {
   "cell_type": "code",
   "execution_count": 3,
   "metadata": {},
   "outputs": [
    {
     "name": "stdout",
     "output_type": "stream",
     "text": [
      "b'00000'\n",
      "b'00001'\n",
      "b'0000000001'\n"
     ]
    }
   ],
   "source": [
    "print(char_to_bits['A'])\n",
    "print(char_to_bits['R'])\n",
    "print(char_to_bits['A'] + char_to_bits['R'])"
   ]
  },
  {
   "cell_type": "markdown",
   "metadata": {},
   "source": [
    "### 2. bits to chars"
   ]
  },
  {
   "cell_type": "code",
   "execution_count": 6,
   "metadata": {},
   "outputs": [],
   "source": [
    "bits_to_char = {v: k for k, v in char_to_bits.items()}\n"
   ]
  },
  {
   "cell_type": "code",
   "execution_count": 7,
   "metadata": {},
   "outputs": [
    {
     "data": {
      "text/plain": [
       "'R'"
      ]
     },
     "execution_count": 7,
     "metadata": {},
     "output_type": "execute_result"
    }
   ],
   "source": [
    "bits_to_char[b'00001']"
   ]
  },
  {
   "cell_type": "markdown",
   "metadata": {},
   "source": [
    "### 3. strings to bits"
   ]
  },
  {
   "cell_type": "code",
   "execution_count": 10,
   "metadata": {},
   "outputs": [],
   "source": [
    "def str_to_bits(string: str) -> bin:\n",
    "    bit_arr = b'0'\n",
    "    for c in string:\n",
    "        if c in char_to_bits:\n",
    "            bit_arr += char_to_bits[c]\n",
    "        else:\n",
    "            raise f'Error: character {c} not known'\n",
    "\n",
    "    return bit_arr[1:]"
   ]
  },
  {
   "cell_type": "code",
   "execution_count": 11,
   "metadata": {},
   "outputs": [
    {
     "name": "stdout",
     "output_type": "stream",
     "text": [
      "b'01100000000101010010'\n",
      "20\n"
     ]
    }
   ],
   "source": [
    "print(str_to_bits('MALW'))\n",
    "print(len(str_to_bits('MALW')))"
   ]
  },
  {
   "cell_type": "markdown",
   "metadata": {},
   "source": [
    "### 4. bits to string"
   ]
  },
  {
   "cell_type": "code",
   "execution_count": 12,
   "metadata": {},
   "outputs": [],
   "source": [
    "def bits_to_str(bits: bin) -> str:\n",
    "    # if its not divisable by 5, raise error\n",
    "    if len(bits) % 5 != 0:\n",
    "        raise f'Error: bit string should be in lengths divisable by 5'\n",
    "    \n",
    "    string = ''\n",
    "    for i in range(0, len(bits), 5):\n",
    "        string += bits_to_char[bits[i:i+5]]\n",
    "        \n",
    "    return string"
   ]
  },
  {
   "cell_type": "code",
   "execution_count": 13,
   "metadata": {},
   "outputs": [
    {
     "data": {
      "text/plain": [
       "'MALW'"
      ]
     },
     "execution_count": 13,
     "metadata": {},
     "output_type": "execute_result"
    }
   ],
   "source": [
    "bits = str_to_bits('MALW')\n",
    "bits_to_str(bits)"
   ]
  },
  {
   "cell_type": "markdown",
   "metadata": {},
   "source": [
    "## Test size"
   ]
  },
  {
   "cell_type": "code",
   "execution_count": 15,
   "metadata": {},
   "outputs": [
    {
     "data": {
      "text/plain": [
       "b'00000'"
      ]
     },
     "execution_count": 15,
     "metadata": {},
     "output_type": "execute_result"
    }
   ],
   "source": [
    "char_to_bits['A']"
   ]
  },
  {
   "cell_type": "code",
   "execution_count": 17,
   "metadata": {},
   "outputs": [
    {
     "data": {
      "text/plain": [
       "38"
      ]
     },
     "execution_count": 17,
     "metadata": {},
     "output_type": "execute_result"
    }
   ],
   "source": [
    "sys.getsizeof(char_to_bits['A'])"
   ]
  },
  {
   "cell_type": "code",
   "execution_count": 18,
   "metadata": {},
   "outputs": [
    {
     "data": {
      "text/plain": [
       "56"
      ]
     },
     "execution_count": 18,
     "metadata": {},
     "output_type": "execute_result"
    }
   ],
   "source": [
    "sys.getsizeof(BitArray('0b00001'))"
   ]
  },
  {
   "cell_type": "code",
   "execution_count": 19,
   "metadata": {},
   "outputs": [
    {
     "data": {
      "text/plain": [
       "56"
      ]
     },
     "execution_count": 19,
     "metadata": {},
     "output_type": "execute_result"
    }
   ],
   "source": [
    "sys.getsizeof(Bits(bin='0b00001'))"
   ]
  },
  {
   "cell_type": "code",
   "execution_count": 19,
   "metadata": {},
   "outputs": [
    {
     "data": {
      "text/plain": [
       "b'0001'"
      ]
     },
     "execution_count": 19,
     "metadata": {},
     "output_type": "execute_result"
    }
   ],
   "source": [
    "b'0001'"
   ]
  },
  {
   "cell_type": "code",
   "execution_count": 20,
   "metadata": {},
   "outputs": [
    {
     "data": {
      "text/plain": [
       "37"
      ]
     },
     "execution_count": 20,
     "metadata": {},
     "output_type": "execute_result"
    }
   ],
   "source": [
    "sys.getsizeof(b'0001')"
   ]
  },
  {
   "cell_type": "code",
   "execution_count": null,
   "metadata": {},
   "outputs": [],
   "source": []
  }
 ],
 "metadata": {
  "kernelspec": {
   "display_name": "Python 3",
   "language": "python",
   "name": "python3"
  },
  "language_info": {
   "codemirror_mode": {
    "name": "ipython",
    "version": 3
   },
   "file_extension": ".py",
   "mimetype": "text/x-python",
   "name": "python",
   "nbconvert_exporter": "python",
   "pygments_lexer": "ipython3",
   "version": "3.7.4"
  }
 },
 "nbformat": 4,
 "nbformat_minor": 4
}
