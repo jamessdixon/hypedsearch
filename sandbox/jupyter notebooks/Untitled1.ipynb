{
 "cells": [
  {
   "cell_type": "code",
   "execution_count": 1,
   "metadata": {},
   "outputs": [],
   "source": [
    "import os\n",
    "import sys\n",
    "module_path = os.path.abspath(os.path.join('..'))\n",
    "if module_path not in sys.path:\n",
    "    sys.path.append(module_path)\n",
    "module_path = os.path.abspath(os.path.join('../..'))\n",
    "if module_path not in sys.path:\n",
    "    sys.path.append(module_path)\n",
    "    \n",
    "from src import gen_spectra"
   ]
  },
  {
   "cell_type": "markdown",
   "metadata": {},
   "source": [
    "# Fancy tiling algorithm\n",
    "Inputs:\n",
    "1. \n",
    "2. \n",
    "3. \n",
    "\n",
    "Outputs: \n",
    "\n",
    "\n",
    "\n",
    "Oracles: \n",
    "1. Mass of any AA for any charge\n",
    "2. Precursor mass of any AA sequence\n",
    "\n",
    "## Edge cases\n"
   ]
  },
  {
   "cell_type": "code",
   "execution_count": 60,
   "metadata": {},
   "outputs": [
    {
     "data": {
      "text/plain": [
       "[58.520747935,\n",
       " 75.53280128499999,\n",
       " 115.06277993500001,\n",
       " 116.034219435,\n",
       " 150.058326135,\n",
       " 153.58335678499998,\n",
       " 179.09206893500001,\n",
       " 197.09937078499996,\n",
       " 229.118283435,\n",
       " 229.61590843500002,\n",
       " 286.157940435,\n",
       " 290.139027285,\n",
       " 306.15943713499996,\n",
       " 321.676497435,\n",
       " 346.681059285,\n",
       " 357.176861435,\n",
       " 378.218529435,\n",
       " 382.199616285,\n",
       " 393.19146513499993,\n",
       " 438.741648285,\n",
       " 458.224540435,\n",
       " 471.25818593500003,\n",
       " 489.265487785,\n",
       " 514.7741999350001,\n",
       " 553.2947767850001,\n",
       " 571.308604435,\n",
       " 579.270778135,\n",
       " 592.824755435,\n",
       " 609.836808785,\n",
       " 642.345718435,\n",
       " 658.344997935,\n",
       " 667.350280285,\n",
       " 692.354842135,\n",
       " 755.429782435,\n",
       " 763.391956135,\n",
       " 876.476020135,\n",
       " 941.5090954350001,\n",
       " 977.523699135,\n",
       " 1028.5411234350001,\n",
       " 1105.582277135,\n",
       " 1184.642234435,\n",
       " 1218.6663411349998,\n",
       " 1315.682719435,\n",
       " 1333.6932841349999]"
      ]
     },
     "execution_count": 60,
     "metadata": {},
     "output_type": "execute_result"
    }
   ],
   "source": [
    "sorted(gen_spectra.gen_spectrum('DLQTLALWSRM')['spectrum'])"
   ]
  },
  {
   "cell_type": "code",
   "execution_count": 13,
   "metadata": {},
   "outputs": [],
   "source": [
    "observed = [84.04356384277344, 86.095703125, 101.07088470458984, 201.12228393554688, 202.1270751953125, 212.10423278808594, 229.1165008544922, 246.14280700683594, 306.16021728515625, 357.17578125, 393.1902770996094, 430.2205505371094, 440.2127685546875, 458.2236022949219, 553.2975463867188, 579.2705078125, 624.333251953125, 642.3447875976562, 658.3429565429688, 692.3502197265625, 763.3924560546875, 764.3958129882812, 876.477783203125, 977.5200805664062, 978.5184326171875]"
   ]
  },
  {
   "cell_type": "code",
   "execution_count": 47,
   "metadata": {},
   "outputs": [],
   "source": [
    "prefix = 'WSRM'\n",
    "y1 = gen_spectra.gen_spectrum(prefix, ion='y', charge=1)['spectrum'][-1]\n",
    "b1 = gen_spectra.gen_spectrum(prefix, ion='b', charge=1)['spectrum'][-1]\n",
    "y2 = gen_spectra.gen_spectrum(prefix, ion='y', charge=2)['spectrum'][-1]\n",
    "b2 = gen_spectra.gen_spectrum(prefix, ion='b', charge=2)['spectrum'][-1]"
   ]
  },
  {
   "cell_type": "code",
   "execution_count": 63,
   "metadata": {},
   "outputs": [],
   "source": [
    "sub_y1 = [x - y1 for x in observed if x - y1 > 0 and x < 980]\n",
    "sub_b1 = [x - b1 for x in observed if x - b1 > 0 and x < 980]\n",
    "sub_y2 = [x - y2 for x in observed if x - y2 > 0 and x < 980]\n",
    "sub_b2 = [x - b2 for x in observed if x - b2 > 0 and x < 980]"
   ]
  },
  {
   "cell_type": "code",
   "execution_count": 64,
   "metadata": {},
   "outputs": [
    {
     "data": {
      "text/plain": [
       "[45.062473818125,\n",
       " 63.07400946265625,\n",
       " 79.07217840796875,\n",
       " 113.0794415915625,\n",
       " 184.1216779196875,\n",
       " 185.12503485328125,\n",
       " 297.207005068125,\n",
       " 398.24930243140625,\n",
       " 399.2476544821875]"
      ]
     },
     "execution_count": 64,
     "metadata": {},
     "output_type": "execute_result"
    }
   ],
   "source": [
    "sub_y1"
   ]
  },
  {
   "cell_type": "code",
   "execution_count": 66,
   "metadata": {},
   "outputs": [
    {
     "data": {
      "text/plain": [
       "[16.021190000156253,\n",
       " 67.036753965,\n",
       " 103.05124981460938,\n",
       " 140.08152325210938,\n",
       " 150.0737412696875,\n",
       " 168.08457500992188,\n",
       " 263.15851910171875,\n",
       " 289.1314805275,\n",
       " 334.194224668125,\n",
       " 352.20576031265625,\n",
       " 368.20392925796875,\n",
       " 402.2111924415625,\n",
       " 473.2534287696875,\n",
       " 474.25678570328125,\n",
       " 586.338755918125,\n",
       " 687.3810532814063,\n",
       " 688.3794053321875]"
      ]
     },
     "execution_count": 66,
     "metadata": {},
     "output_type": "execute_result"
    }
   ],
   "source": [
    "sub_y2"
   ]
  },
  {
   "cell_type": "code",
   "execution_count": 67,
   "metadata": {},
   "outputs": [
    {
     "data": {
      "text/plain": [
       "[18.01029437750003,\n",
       " 63.07303851812503,\n",
       " 81.08457416265628,\n",
       " 97.08274310796878,\n",
       " 131.09000629156253,\n",
       " 202.13224261968753,\n",
       " 203.13559955328128,\n",
       " 315.21756976812503,\n",
       " 416.2598671314063,\n",
       " 417.25821918218753]"
      ]
     },
     "execution_count": 67,
     "metadata": {},
     "output_type": "execute_result"
    }
   ],
   "source": [
    "# sub_b1"
   ]
  },
  {
   "cell_type": "code",
   "execution_count": 82,
   "metadata": {},
   "outputs": [],
   "source": [
    "# sub_b2"
   ]
  },
  {
   "cell_type": "code",
   "execution_count": 80,
   "metadata": {},
   "outputs": [
    {
     "data": {
      "text/plain": [
       "[132.101905135, 203.139019135, 66.554590785, 102.073147785]"
      ]
     },
     "execution_count": 80,
     "metadata": {},
     "output_type": "execute_result"
    }
   ],
   "source": [
    "gen_spectra.gen_spectrum('AL', ion='y')['spectrum']"
   ]
  },
  {
   "cell_type": "code",
   "execution_count": 71,
   "metadata": {},
   "outputs": [],
   "source": [
    "from src.scoring import scoring"
   ]
  },
  {
   "cell_type": "code",
   "execution_count": 100,
   "metadata": {},
   "outputs": [
    {
     "data": {
      "text/plain": [
       "5"
      ]
     },
     "execution_count": 100,
     "metadata": {},
     "output_type": "execute_result"
    }
   ],
   "source": [
    "scoring.score_sequence(observed, sorted(gen_spectra.gen_spectrum('DLQTLAL', ion='b')['spectrum']), 20)"
   ]
  },
  {
   "cell_type": "code",
   "execution_count": 83,
   "metadata": {},
   "outputs": [
    {
     "data": {
      "text/plain": [
       "763.391956135"
      ]
     },
     "execution_count": 83,
     "metadata": {},
     "output_type": "execute_result"
    }
   ],
   "source": [
    "gen_spectra.gen_spectrum('ALWSRM', ion='y', charge=1)['spectrum'][-1]"
   ]
  },
  {
   "cell_type": "code",
   "execution_count": 84,
   "metadata": {},
   "outputs": [
    {
     "data": {
      "text/plain": [
       "382.199616285"
      ]
     },
     "execution_count": 84,
     "metadata": {},
     "output_type": "execute_result"
    }
   ],
   "source": [
    "gen_spectra.gen_spectrum('ALWSRM', ion='y', charge=2)['spectrum'][-1]"
   ]
  },
  {
   "cell_type": "code",
   "execution_count": 85,
   "metadata": {},
   "outputs": [
    {
     "data": {
      "text/plain": [
       "[84.04356384277344,\n",
       " 86.095703125,\n",
       " 101.07088470458984,\n",
       " 201.12228393554688,\n",
       " 202.1270751953125,\n",
       " 212.10423278808594,\n",
       " 229.1165008544922,\n",
       " 246.14280700683594,\n",
       " 306.16021728515625,\n",
       " 357.17578125,\n",
       " 393.1902770996094,\n",
       " 430.2205505371094,\n",
       " 440.2127685546875,\n",
       " 458.2236022949219,\n",
       " 553.2975463867188,\n",
       " 579.2705078125,\n",
       " 624.333251953125,\n",
       " 642.3447875976562,\n",
       " 658.3429565429688,\n",
       " 692.3502197265625,\n",
       " 763.3924560546875,\n",
       " 764.3958129882812,\n",
       " 876.477783203125,\n",
       " 977.5200805664062,\n",
       " 978.5184326171875]"
      ]
     },
     "execution_count": 85,
     "metadata": {},
     "output_type": "execute_result"
    }
   ],
   "source": [
    "observed"
   ]
  },
  {
   "cell_type": "code",
   "execution_count": 86,
   "metadata": {},
   "outputs": [
    {
     "data": {
      "text/plain": [
       "184.121178"
      ]
     },
     "execution_count": 86,
     "metadata": {},
     "output_type": "execute_result"
    }
   ],
   "source": [
    "763.391956135 - gen_spectra.gen_spectrum('WSRM', ion='y', charge=1)['spectrum'][-1]"
   ]
  },
  {
   "cell_type": "markdown",
   "metadata": {},
   "source": [
    "1. Find the first y ion that is a product of a hybrid\n",
    "    1. This is the first y ion to the left of the hybrid junction\n",
    "        * `AL-WSRM`, we found the mass of `ALWSRM` in observed\n",
    "2. Find the y1 and y2 masses of `ALWSRM`\n",
    "3. Subtract the mass of `WSRM` from `ALWSRM`\n",
    "    1. gives us 184 for the y1 case\n",
    "    2. Found by just checking the cases (theoretical spectra) for singly and doubly charged\n",
    "4. Check if this mass was found in our y1_sub set\n",
    "    1. y1_sub was any observed mass - y1 of `WSRM` > 0\n",
    "    "
   ]
  },
  {
   "cell_type": "code",
   "execution_count": null,
   "metadata": {},
   "outputs": [],
   "source": [
    "'DQLTLAL'\n",
    "         'SRM'\n",
    "\n",
    "'DLQTLAL-WS'\n",
    "     'AL-WSRM'\n",
    "    \n",
    "'DQLTLAL-WSRM'"
   ]
  }
 ],
 "metadata": {
  "kernelspec": {
   "display_name": "Python 3",
   "language": "python",
   "name": "python3"
  },
  "language_info": {
   "codemirror_mode": {
    "name": "ipython",
    "version": 3
   },
   "file_extension": ".py",
   "mimetype": "text/x-python",
   "name": "python",
   "nbconvert_exporter": "python",
   "pygments_lexer": "ipython3",
   "version": "3.7.4"
  }
 },
 "nbformat": 4,
 "nbformat_minor": 4
}
