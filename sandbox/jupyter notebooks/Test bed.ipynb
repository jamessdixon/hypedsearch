{
 "cells": [
  {
   "cell_type": "markdown",
   "metadata": {},
   "source": [
    "# Test Bed\n"
   ]
  },
  {
   "cell_type": "code",
   "execution_count": 2,
   "metadata": {},
   "outputs": [],
   "source": [
    "import os\n",
    "import sys\n",
    "module_path = os.path.abspath(os.path.join('..'))\n",
    "if module_path not in sys.path:\n",
    "    sys.path.append(module_path)\n",
    "module_path = os.path.abspath(os.path.join('../..'))\n",
    "if module_path not in sys.path:\n",
    "    sys.path.append(module_path)\n",
    "    \n",
    "import numpy as np\n",
    "\n",
    "from src.gen_spectra import gen_spectrum, get_precursor\n",
    "from src.objects import Spectrum\n",
    "from src.utils import insort_by_index, make_sparse_array, ppm_to_da, overlap_intervals\n",
    "from src.scoring import scoring\n",
    "\n",
    "# from src import main\n",
    "\n",
    "from src.params import OUTPUT_DIRECTORY\n",
    "\n",
    "from collections import namedtuple"
   ]
  },
  {
   "cell_type": "code",
   "execution_count": 2,
   "metadata": {},
   "outputs": [
    {
     "name": "stdout",
     "output_type": "stream",
     "text": [
      "Loading database...\n",
      "Done\n",
      "Loading spectra...\n",
      "Done\n",
      "Making the protein mass set...\n",
      "On protein 279/279 [100%]\n",
      "Sorting the set of protein masses...\n",
      "Done. Length of the list: 5674100\n",
      "Time to build: 32.9628 seconds\n",
      "Time to do merge: 1.7895 seconds\n",
      "Creating an alignment for 9/9 [100%]\n",
      "Finished search. Writting results to /Users/zacharymcgrath/Desktop/Experiment output/filtered_NOD2_E3_AUG_26/...\n",
      "Could not make an alignment for 1/9 spectra (11%)\n"
     ]
    }
   ],
   "source": [
    "# run hyped search with the params \n",
    "parameters = namedtuple('parameteres', 'params')\n",
    "main.main(parameters('True'))"
   ]
  },
  {
   "cell_type": "code",
   "execution_count": 3,
   "metadata": {},
   "outputs": [],
   "source": [
    "# load the values\n",
    "import json\n",
    "all_results = json.load(open(OUTPUT_DIRECTORY + 'summary.json', 'r'))"
   ]
  },
  {
   "cell_type": "code",
   "execution_count": 4,
   "metadata": {},
   "outputs": [
    {
     "name": "stdout",
     "output_type": "stream",
     "text": [
      "---------- Alignments for spectrum 0 ----------\n",
      "LPVNSPMTKGD \t b score: 0 \t y score: 0\n",
      "---------- Alignments for spectrum 1 ----------\n",
      "GEAIVGYK \t b score: 3 \t y score: 6\n",
      "DAAIVGYK \t b score: 3 \t y score: 6\n",
      "EGALVGYK \t b score: 3 \t y score: 6\n",
      "---------- Alignments for spectrum 2 ----------\n",
      "---------- Alignments for spectrum 3 ----------\n",
      "DPQVEQLEL \t b score: 7 \t y score: 2\n",
      "FVDLTMPYS \t b score: 0 \t y score: 0\n",
      "---------- Alignments for spectrum 4 ----------\n",
      "DLQTLALWSRM \t b score: 5 \t y score: 8\n",
      "DLQTLALEFGLGG \t b score: 5 \t y score: 7\n",
      "DLQTLALGQIFD \t b score: 5 \t y score: 6\n",
      "---------- Alignments for spectrum 5 ----------\n",
      "DLTEYLSRFGEVV \t b score: 5 \t y score: 5\n",
      "EVTEYLSRFGEVV \t b score: 5 \t y score: 5\n",
      "DLTEYLRDTFAAL \t b score: 3 \t y score: 4\n",
      "---------- Alignments for spectrum 6 ----------\n",
      "ELTNLEVE \t b score: 6 \t y score: 2\n",
      "ELTNLEDL \t b score: 6 \t y score: 2\n",
      "TLNELEDL \t b score: 5 \t y score: 2\n",
      "---------- Alignments for spectrum 7 ----------\n",
      "SSSSLAAPASLFPLKLLYKIVRGDQ \t b score: 5 \t y score: 1\n",
      "---------- Alignments for spectrum 8 ----------\n",
      "EEILKAFKLF \t b score: 5 \t y score: 3\n",
      "LEELFFKLIS \t b score: 5 \t y score: 0\n",
      "YFVAGLLIMLV \t b score: 1 \t y score: 3\n"
     ]
    }
   ],
   "source": [
    "for i, entry in all_results.items():\n",
    "    print(f'---------- Alignments for spectrum {i} ----------')\n",
    "    for a in entry['alignments']:\n",
    "        print(f'{a[\"sequence\"]} \\t b score: {a[\"b_score\"]} \\t y score: {a[\"y_score\"]}')"
   ]
  },
  {
   "cell_type": "code",
   "execution_count": 8,
   "metadata": {},
   "outputs": [],
   "source": [
    "seq1 = 'MALWARM' \n",
    "seq2 = 'GGGQQUVRS' \n",
    "seq3 = 'NRGQWEVE'\n"
   ]
  },
  {
   "cell_type": "code",
   "execution_count": 22,
   "metadata": {},
   "outputs": [],
   "source": [
    "# create boundaries for every sequence\n",
    "def make_boundary(val):\n",
    "    da_tol = ppm_to_da(val, 20)\n",
    "    return [round(val - da_tol, 4), round(val + da_tol, 4)]"
   ]
  },
  {
   "cell_type": "code",
   "execution_count": 23,
   "metadata": {},
   "outputs": [],
   "source": [
    "boundaries = []\n",
    "for seq in [seq1, seq2, seq3]:\n",
    "    b_spec = gen_spectrum(seq, ion='b')['spectrum']\n",
    "    y_spec = gen_spectrum(seq, ion='y')['spectrum']\n",
    "    \n",
    "    for i in range(len(seq)):\n",
    "        boundaries.append((make_boundary(b_spec[i]), seq[:i+1]))\n",
    "        boundaries.append((make_boundary(y_spec[i]), seq[-i-1:]))  \n",
    "        \n",
    "boundaries.sort(key=lambda x: x[0][0])"
   ]
  },
  {
   "cell_type": "code",
   "execution_count": 24,
   "metadata": {},
   "outputs": [
    {
     "data": {
      "text/plain": [
       "[([58.0276, 58.0299], 'G'),\n",
       " ([106.0477, 106.052], 'S'),\n",
       " ([115.0479, 115.0525], 'GG'),\n",
       " ([115.0479, 115.0525], 'N'),\n",
       " ([132.0451, 132.0504], 'M'),\n",
       " ([148.0575, 148.0634], 'E'),\n",
       " ([150.0553, 150.0613], 'M'),\n",
       " ([172.0682, 172.0751], 'GGG'),\n",
       " ([203.0808, 203.0889], 'MA'),\n",
       " ([247.1239, 247.1338], 'VE'),\n",
       " ([262.1457, 262.1562], 'RS'),\n",
       " ([271.1459, 271.1567], 'NR'),\n",
       " ([300.1242, 300.1362], 'GGGQ'),\n",
       " ([306.1533, 306.1656], 'RM'),\n",
       " ([316.1626, 316.1753], 'MAL'),\n",
       " ([328.1662, 328.1793], 'NRG'),\n",
       " ([361.2122, 361.2266], 'VRS'),\n",
       " ([376.1639, 376.179], 'EVE'),\n",
       " ([377.189, 377.2041], 'ARM'),\n",
       " ([428.1803, 428.1974], 'GGGQQ'),\n",
       " ([456.2222, 456.2405], 'NRGQ'),\n",
       " ([502.2382, 502.2583], 'MALW'),\n",
       " ([512.1628, 512.1833], 'UVRS'),\n",
       " ([562.2395, 562.262], 'WEVE'),\n",
       " ([563.2646, 563.2871], 'WARM'),\n",
       " ([573.2739, 573.2968], 'MALWA'),\n",
       " ([579.1309, 579.154], 'GGGQQU'),\n",
       " ([640.2188, 640.2444], 'QUVRS'),\n",
       " ([642.2978, 642.3235], 'NRGQW'),\n",
       " ([676.3464, 676.3735], 'LWARM'),\n",
       " ([678.1973, 678.2244], 'GGGQQUV'),\n",
       " ([690.2955, 690.3231], 'QWEVE'),\n",
       " ([729.3719, 729.4011], 'MALWAR'),\n",
       " ([747.3158, 747.3457], 'GQWEVE'),\n",
       " ([747.3821, 747.412], 'ALWARM'),\n",
       " ([768.2748, 768.3055], 'QQUVRS'),\n",
       " ([771.3378, 771.3687], 'NRGQWE'),\n",
       " ([825.2951, 825.3282], 'GQQUVRS'),\n",
       " ([834.2953, 834.3287], 'GGGQQUVR'),\n",
       " ([860.4098, 860.4442], 'MALWARM'),\n",
       " ([870.4043, 870.4391], 'NRGQWEV'),\n",
       " ([878.42, 878.4551], 'MALWARM'),\n",
       " ([882.3155, 882.3508], 'GGQQUVRS'),\n",
       " ([903.4138, 903.45], 'RGQWEVE'),\n",
       " ([921.3256, 921.3624], 'GGGQQUVRS'),\n",
       " ([939.3358, 939.3734], 'GGGQQUVRS'),\n",
       " ([999.4443, 999.4843], 'NRGQWEVE'),\n",
       " ([1017.4545, 1017.4952], 'NRGQWEVE')]"
      ]
     },
     "execution_count": 24,
     "metadata": {},
     "output_type": "execute_result"
    }
   ],
   "source": [
    "boundaries"
   ]
  },
  {
   "cell_type": "code",
   "execution_count": 25,
   "metadata": {},
   "outputs": [],
   "source": [
    "b = [([58.0276, 58.0299], 'G'),\n",
    " ([106.0477, 106.052], 'S'),\n",
    " ([115.0479, 115.0525], 'GG, N'),\n",
    " ([132.0451, 132.0504], 'M'),\n",
    " ([148.0575, 148.0634], 'E'),\n",
    " ([150.0553, 150.0613], 'M'),\n",
    " ([172.0682, 172.0751], 'GGG'),\n",
    " ([203.0808, 203.0889], 'MA'),\n",
    " ([247.1239, 247.1338], 'VE'),\n",
    " ([262.1457, 262.1562], 'RS'),\n",
    " ([271.1459, 271.1567], 'NR'),\n",
    " ([300.1242, 300.1362], 'GGGQ'),\n",
    " ([306.1533, 306.1656], 'RM'),\n",
    " ([316.1626, 316.1753], 'MAL'),\n",
    " ([328.1662, 328.1793], 'NRG'),\n",
    " ([361.2122, 361.2266], 'VRS'),\n",
    " ([376.1639, 376.179], 'EVE'),\n",
    " ([377.189, 377.2041], 'ARM'),\n",
    " ([428.1803, 428.1974], 'GGGQQ'),\n",
    " ([456.2222, 456.2405], 'NRGQ'),\n",
    " ([502.2382, 502.2583], 'MALW'),\n",
    " ([512.1628, 512.1833], 'UVRS'),\n",
    " ([562.2395, 562.262], 'WEVE'),\n",
    " ([563.2646, 563.2871], 'WARM'),\n",
    " ([573.2739, 573.2968], 'MALWA'),\n",
    " ([579.1309, 579.154], 'GGGQQU'),\n",
    " ([640.2188, 640.2444], 'QUVRS'),\n",
    " ([642.2978, 642.3235], 'NRGQW'),\n",
    " ([676.3464, 676.3735], 'LWARM'),\n",
    " ([678.1973, 678.2244], 'GGGQQUV'),\n",
    " ([690.2955, 690.3231], 'QWEVE'),\n",
    " ([729.3719, 729.4011], 'MALWAR'),\n",
    " ([747.3158, 747.412], 'GQWEVE, ALWARM'),\n",
    " ([768.2748, 768.3055], 'QQUVRS'),\n",
    " ([771.3378, 771.3687], 'NRGQWE'),\n",
    " ([825.2951, 825.3282], 'GQQUVRS'),\n",
    " ([834.2953, 834.3287], 'GGGQQUVR'),\n",
    " ([860.4098, 860.4442], 'MALWARM'),\n",
    " ([870.4043, 870.4391], 'NRGQWEV'),\n",
    " ([878.42, 878.4551], 'MALWARM'),\n",
    " ([882.3155, 882.3508], 'GGQQUVRS'),\n",
    " ([903.4138, 903.45], 'RGQWEVE'),\n",
    " ([921.3256, 921.3624], 'GGGQQUVRS'),\n",
    " ([939.3358, 939.3734], 'GGGQQUVRS'),\n",
    " ([999.4443, 999.4843], 'NRGQWEVE'),\n",
    " ([1017.4545, 1017.4952], 'NRGQWEVE')]"
   ]
  },
  {
   "cell_type": "code",
   "execution_count": 27,
   "metadata": {},
   "outputs": [
    {
     "data": {
      "text/plain": [
       "{'58.0276-58.0299': 'G',\n",
       " '106.0477-106.052': 'S',\n",
       " '115.0479-115.0525': 'GG, N',\n",
       " '132.0451-132.0504': 'M',\n",
       " '148.0575-148.0634': 'E',\n",
       " '150.0553-150.0613': 'M',\n",
       " '172.0682-172.0751': 'GGG',\n",
       " '203.0808-203.0889': 'MA',\n",
       " '247.1239-247.1338': 'VE',\n",
       " '262.1457-262.1562': 'RS',\n",
       " '271.1459-271.1567': 'NR',\n",
       " '300.1242-300.1362': 'GGGQ',\n",
       " '306.1533-306.1656': 'RM',\n",
       " '316.1626-316.1753': 'MAL',\n",
       " '328.1662-328.1793': 'NRG',\n",
       " '361.2122-361.2266': 'VRS',\n",
       " '376.1639-376.179': 'EVE',\n",
       " '377.189-377.2041': 'ARM',\n",
       " '428.1803-428.1974': 'GGGQQ',\n",
       " '456.2222-456.2405': 'NRGQ',\n",
       " '502.2382-502.2583': 'MALW',\n",
       " '512.1628-512.1833': 'UVRS',\n",
       " '562.2395-562.262': 'WEVE',\n",
       " '563.2646-563.2871': 'WARM',\n",
       " '573.2739-573.2968': 'MALWA',\n",
       " '579.1309-579.154': 'GGGQQU',\n",
       " '640.2188-640.2444': 'QUVRS',\n",
       " '642.2978-642.3235': 'NRGQW',\n",
       " '676.3464-676.3735': 'LWARM',\n",
       " '678.1973-678.2244': 'GGGQQUV',\n",
       " '690.2955-690.3231': 'QWEVE',\n",
       " '729.3719-729.4011': 'MALWAR',\n",
       " '747.3158-747.412': 'GQWEVE, ALWARM',\n",
       " '768.2748-768.3055': 'QQUVRS',\n",
       " '771.3378-771.3687': 'NRGQWE',\n",
       " '825.2951-825.3282': 'GQQUVRS',\n",
       " '834.2953-834.3287': 'GGGQQUVR',\n",
       " '860.4098-860.4442': 'MALWARM',\n",
       " '870.4043-870.4391': 'NRGQWEV',\n",
       " '878.42-878.4551': 'MALWARM',\n",
       " '882.3155-882.3508': 'GGQQUVRS',\n",
       " '903.4138-903.45': 'RGQWEVE',\n",
       " '921.3256-921.3624': 'GGGQQUVRS',\n",
       " '939.3358-939.3734': 'GGGQQUVRS',\n",
       " '999.4443-999.4843': 'NRGQWEVE',\n",
       " '1017.4545-1017.4952': 'NRGQWEVE'}"
      ]
     },
     "execution_count": 27,
     "metadata": {},
     "output_type": "execute_result"
    }
   ],
   "source": [
    "mappings = {'-'.join([str(x) for x in k]): v for k, v in b}\n",
    "mappings"
   ]
  },
  {
   "cell_type": "code",
   "execution_count": 8,
   "metadata": {},
   "outputs": [
    {
     "data": {
      "text/plain": [
       "[36.525833435,\n",
       " 72.044390435,\n",
       " 75.53280128499999,\n",
       " 93.067865435,\n",
       " 150.058326135,\n",
       " 153.58335678499998,\n",
       " 185.12845443499998,\n",
       " 186.10752193500002,\n",
       " 189.10191378499997,\n",
       " 221.626078935,\n",
       " 282.14157028499994,\n",
       " 299.676634435,\n",
       " 306.15943713499996,\n",
       " 338.68360228499995,\n",
       " 365.196876935,\n",
       " 371.207767435,\n",
       " 374.20215928499994,\n",
       " 377.19655113499994,\n",
       " 442.244881435,\n",
       " 563.2758641349999,\n",
       " 598.345992435,\n",
       " 676.3599281349999,\n",
       " 729.386477435,\n",
       " 747.3970421349999]"
      ]
     },
     "execution_count": 8,
     "metadata": {},
     "output_type": "execute_result"
    }
   ],
   "source": [
    "sorted(gen_spectrum('ALWARM')['spectrum'])"
   ]
  },
  {
   "cell_type": "code",
   "execution_count": null,
   "metadata": {},
   "outputs": [],
   "source": []
  }
 ],
 "metadata": {
  "kernelspec": {
   "display_name": "Python 3",
   "language": "python",
   "name": "python3"
  },
  "language_info": {
   "codemirror_mode": {
    "name": "ipython",
    "version": 3
   },
   "file_extension": ".py",
   "mimetype": "text/x-python",
   "name": "python",
   "nbconvert_exporter": "python",
   "pygments_lexer": "ipython3",
   "version": "3.7.4"
  }
 },
 "nbformat": 4,
 "nbformat_minor": 4
}
