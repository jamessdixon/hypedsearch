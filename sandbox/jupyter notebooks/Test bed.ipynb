{
 "cells": [
  {
   "cell_type": "markdown",
   "metadata": {},
   "source": [
    "# Test Bed\n"
   ]
  },
  {
   "cell_type": "code",
   "execution_count": 5,
   "metadata": {},
   "outputs": [],
   "source": [
    "import os\n",
    "import sys\n",
    "module_path = os.path.abspath(os.path.join('..'))\n",
    "if module_path not in sys.path:\n",
    "    sys.path.append(module_path)\n",
    "module_path = os.path.abspath(os.path.join('../..'))\n",
    "if module_path not in sys.path:\n",
    "    sys.path.append(module_path)\n",
    "    \n",
    "import numpy as np\n",
    "\n",
    "from src.gen_spectra import gen_spectrum, get_precursor\n",
    "from src.objects import Spectrum\n",
    "from src.utils import insort_by_index, make_sparse_array, ppm_to_da, overlap_intervals\n",
    "from src.scoring import scoring\n",
    "\n",
    "from src import main\n",
    "\n",
    "from src.params import OUTPUT_DIRECTORY\n",
    "\n",
    "from collections import namedtuple, defaultdict"
   ]
  },
  {
   "cell_type": "code",
   "execution_count": 2,
   "metadata": {},
   "outputs": [
    {
     "name": "stdout",
     "output_type": "stream",
     "text": [
      "Loading database...\n",
      "Done\n",
      "Loading spectra...\n",
      "Done\n",
      "Making the protein mass set...\n",
      "On protein 279/279 [100%]\n",
      "Sorting the set of protein masses...\n",
      "Done. Length of the list: 5674100\n",
      "Time to build: 32.9628 seconds\n",
      "Time to do merge: 1.7895 seconds\n",
      "Creating an alignment for 9/9 [100%]\n",
      "Finished search. Writting results to /Users/zacharymcgrath/Desktop/Experiment output/filtered_NOD2_E3_AUG_26/...\n",
      "Could not make an alignment for 1/9 spectra (11%)\n"
     ]
    }
   ],
   "source": [
    "# run hyped search with the params \n",
    "parameters = namedtuple('parameters', 'params')\n",
    "main.main(parameters('True'))"
   ]
  },
  {
   "cell_type": "code",
   "execution_count": 3,
   "metadata": {},
   "outputs": [],
   "source": [
    "# load the values\n",
    "import json\n",
    "all_results = json.load(open(OUTPUT_DIRECTORY + 'summary.json', 'r'))"
   ]
  },
  {
   "cell_type": "code",
   "execution_count": 4,
   "metadata": {},
   "outputs": [
    {
     "name": "stdout",
     "output_type": "stream",
     "text": [
      "---------- Alignments for spectrum 0 ----------\n",
      "LPVNSPMTKGD \t b score: 0 \t y score: 0\n",
      "---------- Alignments for spectrum 1 ----------\n",
      "GEAIVGYK \t b score: 3 \t y score: 6\n",
      "DAAIVGYK \t b score: 3 \t y score: 6\n",
      "EGALVGYK \t b score: 3 \t y score: 6\n",
      "---------- Alignments for spectrum 2 ----------\n",
      "---------- Alignments for spectrum 3 ----------\n",
      "DPQVEQLEL \t b score: 7 \t y score: 2\n",
      "FVDLTMPYS \t b score: 0 \t y score: 0\n",
      "---------- Alignments for spectrum 4 ----------\n",
      "DLQTLALWSRM \t b score: 5 \t y score: 8\n",
      "DLQTLALEFGLGG \t b score: 5 \t y score: 7\n",
      "DLQTLALGQIFD \t b score: 5 \t y score: 6\n",
      "---------- Alignments for spectrum 5 ----------\n",
      "DLTEYLSRFGEVV \t b score: 5 \t y score: 5\n",
      "EVTEYLSRFGEVV \t b score: 5 \t y score: 5\n",
      "DLTEYLRDTFAAL \t b score: 3 \t y score: 4\n",
      "---------- Alignments for spectrum 6 ----------\n",
      "ELTNLEVE \t b score: 6 \t y score: 2\n",
      "ELTNLEDL \t b score: 6 \t y score: 2\n",
      "TLNELEDL \t b score: 5 \t y score: 2\n",
      "---------- Alignments for spectrum 7 ----------\n",
      "SSSSLAAPASLFPLKLLYKIVRGDQ \t b score: 5 \t y score: 1\n",
      "---------- Alignments for spectrum 8 ----------\n",
      "EEILKAFKLF \t b score: 5 \t y score: 3\n",
      "LEELFFKLIS \t b score: 5 \t y score: 0\n",
      "YFVAGLLIMLV \t b score: 1 \t y score: 3\n"
     ]
    }
   ],
   "source": [
    "for i, entry in all_results.items():\n",
    "    print(f'---------- Alignments for spectrum {i} ----------')\n",
    "    for a in entry['alignments']:\n",
    "        print(f'{a[\"sequence\"]} \\t b score: {a[\"b_score\"]} \\t y score: {a[\"y_score\"]}')"
   ]
  },
  {
   "cell_type": "code",
   "execution_count": 4,
   "metadata": {},
   "outputs": [],
   "source": [
    "basic_prots = [\n",
    "    ('Protein 1', 'MALWARM'), \n",
    "    ('Protein 2', 'GGGQQUVRS'), \n",
    "    ('Protein 3', 'NRGQWEVE')\n",
    "]"
   ]
  },
  {
   "cell_type": "code",
   "execution_count": 21,
   "metadata": {},
   "outputs": [],
   "source": [
    "kmer_mapping = defaultdict(list)\n",
    "\n",
    "for prot_name, prot_seq in basic_prots:\n",
    "    for i in range(1, len(prot_seq)):\n",
    "        for j in range(len(prot_seq) - i + 1):\n",
    "            kmer_mapping[prot_seq[j:j+i]].append(prot_name)"
   ]
  },
  {
   "cell_type": "code",
   "execution_count": 22,
   "metadata": {},
   "outputs": [
    {
     "data": {
      "text/plain": [
       "defaultdict(list,\n",
       "            {'M': ['Protein 1'],\n",
       "             'A': ['Protein 1'],\n",
       "             'L': ['Protein 1'],\n",
       "             'W': ['Protein 3', 'Protein 1'],\n",
       "             'R': ['Protein 2', 'Protein 3', 'Protein 1'],\n",
       "             'MA': ['Protein 1'],\n",
       "             'AL': ['Protein 1'],\n",
       "             'LW': ['Protein 1'],\n",
       "             'WA': ['Protein 1'],\n",
       "             'AR': ['Protein 1'],\n",
       "             'RM': ['Protein 1'],\n",
       "             'MAL': ['Protein 1'],\n",
       "             'ALW': ['Protein 1'],\n",
       "             'LWA': ['Protein 1'],\n",
       "             'WAR': ['Protein 1'],\n",
       "             'ARM': ['Protein 1'],\n",
       "             'MALW': ['Protein 1'],\n",
       "             'ALWA': ['Protein 1'],\n",
       "             'LWAR': ['Protein 1'],\n",
       "             'WARM': ['Protein 1'],\n",
       "             'MALWA': ['Protein 1'],\n",
       "             'ALWAR': ['Protein 1'],\n",
       "             'LWARM': ['Protein 1'],\n",
       "             'MALWAR': ['Protein 1'],\n",
       "             'ALWARM': ['Protein 1'],\n",
       "             'G': ['Protein 2', 'Protein 3'],\n",
       "             'Q': ['Protein 2', 'Protein 3'],\n",
       "             'U': ['Protein 2'],\n",
       "             'V': ['Protein 2', 'Protein 3'],\n",
       "             'S': ['Protein 2'],\n",
       "             'GG': ['Protein 2'],\n",
       "             'GQ': ['Protein 2', 'Protein 3'],\n",
       "             'QQ': ['Protein 2'],\n",
       "             'QU': ['Protein 2'],\n",
       "             'UV': ['Protein 2'],\n",
       "             'VR': ['Protein 2'],\n",
       "             'RS': ['Protein 2'],\n",
       "             'GGG': ['Protein 2'],\n",
       "             'GGQ': ['Protein 2'],\n",
       "             'GQQ': ['Protein 2'],\n",
       "             'QQU': ['Protein 2'],\n",
       "             'QUV': ['Protein 2'],\n",
       "             'UVR': ['Protein 2'],\n",
       "             'VRS': ['Protein 2'],\n",
       "             'GGGQ': ['Protein 2'],\n",
       "             'GGQQ': ['Protein 2'],\n",
       "             'GQQU': ['Protein 2'],\n",
       "             'QQUV': ['Protein 2'],\n",
       "             'QUVR': ['Protein 2'],\n",
       "             'UVRS': ['Protein 2'],\n",
       "             'GGGQQ': ['Protein 2'],\n",
       "             'GGQQU': ['Protein 2'],\n",
       "             'GQQUV': ['Protein 2'],\n",
       "             'QQUVR': ['Protein 2'],\n",
       "             'QUVRS': ['Protein 2'],\n",
       "             'GGGQQU': ['Protein 2'],\n",
       "             'GGQQUV': ['Protein 2'],\n",
       "             'GQQUVR': ['Protein 2'],\n",
       "             'QQUVRS': ['Protein 2'],\n",
       "             'GGGQQUV': ['Protein 2'],\n",
       "             'GGQQUVR': ['Protein 2'],\n",
       "             'GQQUVRS': ['Protein 2'],\n",
       "             'GGGQQUVR': ['Protein 2'],\n",
       "             'GGQQUVRS': ['Protein 2'],\n",
       "             'N': ['Protein 3'],\n",
       "             'E': ['Protein 3'],\n",
       "             'NR': ['Protein 3'],\n",
       "             'RG': ['Protein 3'],\n",
       "             'QW': ['Protein 3'],\n",
       "             'WE': ['Protein 3'],\n",
       "             'EV': ['Protein 3'],\n",
       "             'VE': ['Protein 3'],\n",
       "             'NRG': ['Protein 3'],\n",
       "             'RGQ': ['Protein 3'],\n",
       "             'GQW': ['Protein 3'],\n",
       "             'QWE': ['Protein 3'],\n",
       "             'WEV': ['Protein 3'],\n",
       "             'EVE': ['Protein 3'],\n",
       "             'NRGQ': ['Protein 3'],\n",
       "             'RGQW': ['Protein 3'],\n",
       "             'GQWE': ['Protein 3'],\n",
       "             'QWEV': ['Protein 3'],\n",
       "             'WEVE': ['Protein 3'],\n",
       "             'NRGQW': ['Protein 3'],\n",
       "             'RGQWE': ['Protein 3'],\n",
       "             'GQWEV': ['Protein 3'],\n",
       "             'QWEVE': ['Protein 3'],\n",
       "             'NRGQWE': ['Protein 3'],\n",
       "             'RGQWEV': ['Protein 3'],\n",
       "             'GQWEVE': ['Protein 3'],\n",
       "             'NRGQWEV': ['Protein 3'],\n",
       "             'RGQWEVE': ['Protein 3']})"
      ]
     },
     "execution_count": 22,
     "metadata": {},
     "output_type": "execute_result"
    }
   ],
   "source": [
    "for k, v in kmer_mapping.items():\n",
    "    kmer_mapping[k] = list(set(v))\n",
    "    \n",
    "kmer_mapping"
   ]
  },
  {
   "cell_type": "code",
   "execution_count": null,
   "metadata": {},
   "outputs": [],
   "source": []
  }
 ],
 "metadata": {
  "kernelspec": {
   "display_name": "Python 3",
   "language": "python",
   "name": "python3"
  },
  "language_info": {
   "codemirror_mode": {
    "name": "ipython",
    "version": 3
   },
   "file_extension": ".py",
   "mimetype": "text/x-python",
   "name": "python",
   "nbconvert_exporter": "python",
   "pygments_lexer": "ipython3",
   "version": "3.7.4"
  }
 },
 "nbformat": 4,
 "nbformat_minor": 4
}
