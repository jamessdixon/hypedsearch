{
 "cells": [
  {
   "cell_type": "code",
   "execution_count": 3,
   "metadata": {},
   "outputs": [],
   "source": [
    "from collections import namedtuple\n",
    "\n",
    "digest = namedtuple(\n",
    "    'digest',\n",
    "    ['start', 'end'],\n",
    "    defaults=[[], []]\n",
    ")\n",
    "\n",
    "Database = namedtuple(\n",
    "    'Database', \n",
    "    ['fasta_file', 'proteins', 'kmers', 'b_hits', 'y_hits'], \n",
    "    defaults=['', {}, {}, [], []]\n",
    ")"
   ]
  },
  {
   "cell_type": "code",
   "execution_count": 2,
   "metadata": {},
   "outputs": [],
   "source": [
    "digests = {\n",
    "    'trypsin': digest (\n",
    "        [('D', 'l')], \n",
    "        [('R', 'r'), ('K', 'r')]\n",
    "    )\n",
    "}"
   ]
  },
  {
   "cell_type": "code",
   "execution_count": null,
   "metadata": {},
   "outputs": [],
   "source": [
    "def digest(database: Database, digest_type: str, missed_cleavages: int) -> Database:\n",
    "    '''\n",
    "    Digest the proteins in the database according to the digest rules\n",
    "\n",
    "    Inputs:\n",
    "        database:           (Database) the source of proteins\n",
    "        digest_type:        (str) the digest type. If not found, no digest is done\n",
    "        missed_cleavages:   (int) the number of missed cleavages allowed\n",
    "\n",
    "    Ouptus:\n",
    "        (Database) updated protein list. NOTE: digests from the same source\n",
    "                    protein will now be keyed by <protein_name>_<start_pos>_<end_pos>\n",
    "    '''\n",
    "    if digest_type not in digests:\n",
    "        return database\n",
    "\n",
    "    # otherwise we want to digest by the rules\n",
    "    digest_rules = digests[digest_type]\n",
    "    \n",
    "    for prot_name, prot_seq in db.proteins.items():\n",
    "        "
   ]
  },
  {
   "cell_type": "code",
   "execution_count": 19,
   "metadata": {},
   "outputs": [],
   "source": [
    "p = 'MATPEASGSGEKVEGSEPSVTYYRLEEVAKRNSAEETWMVIHGRVYDITRFLSEHPGGEEVLLEQAGADATESFEDVGHSPDAREMLKQYYIGDVHPSDLKPKGDDKDPSKNNSCQSSWAYWFVPIVGAILIGFLYRHFWADSKSS'\n"
   ]
  },
  {
   "cell_type": "code",
   "execution_count": 20,
   "metadata": {},
   "outputs": [
    {
     "name": "stdout",
     "output_type": "stream",
     "text": [
      "[11, 23, 29, 30, 43, 49, 83, 87, 100, 102, 106, 110, 136, 143]\n"
     ]
    }
   ],
   "source": [
    "print([i for i, aa in enumerate(p) if aa == 'K' or aa == 'R'])"
   ]
  },
  {
   "cell_type": "code",
   "execution_count": 28,
   "metadata": {},
   "outputs": [
    {
     "data": {
      "text/plain": [
       "['MATPEASGSGEKVEGSEPSVTYYRLEEVAKRNSAEETWMVIHGRVYDITRFLSEHPGGEEVLLEQAGADATESFEDVGHSPDAREMLKQYYIGDVHPSDLKPKGDDKDPSKNNSCQSSWAYWFVPIVGAILIGFLYRHFWADSKSS']"
      ]
     },
     "execution_count": 28,
     "metadata": {},
     "output_type": "execute_result"
    }
   ],
   "source": [
    "tryptic(p, 15)"
   ]
  },
  {
   "cell_type": "code",
   "execution_count": null,
   "metadata": {},
   "outputs": [],
   "source": []
  }
 ],
 "metadata": {
  "kernelspec": {
   "display_name": "Python 3",
   "language": "python",
   "name": "python3"
  },
  "language_info": {
   "codemirror_mode": {
    "name": "ipython",
    "version": 3
   },
   "file_extension": ".py",
   "mimetype": "text/x-python",
   "name": "python",
   "nbconvert_exporter": "python",
   "pygments_lexer": "ipython3",
   "version": "3.7.4"
  }
 },
 "nbformat": 4,
 "nbformat_minor": 4
}
