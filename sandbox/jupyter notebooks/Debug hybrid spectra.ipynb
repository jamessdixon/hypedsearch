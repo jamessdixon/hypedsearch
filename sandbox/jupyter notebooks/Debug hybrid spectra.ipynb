{
 "cells": [
  {
   "cell_type": "markdown",
   "metadata": {},
   "source": [
    "# Debug the real spectra\n",
    "\n",
    "So it doesn't work well with real data, so having taken out one example of real data, the sequence is\n",
    "\n",
    "__NOTE__: These are ALL hybrids\n",
    "\n",
    "\n",
    "1. `DLQTLALLL`\n",
    "2. `DPQVAQLELGGEVEDPQVAQLELGGGPGAG`\n",
    "3. `DLPVNSPMTKG`\n",
    "4. `DLQTLALWSRM`\n",
    "5. `DLQTLALNAAR`\n",
    "6. `DLQTLALNAAR`\n",
    "7. `DLQTLEVE`\n",
    "8. `DLQTLALEVE`\n",
    "\n",
    "so toy with the tool until we find out whats wrong"
   ]
  },
  {
   "cell_type": "code",
   "execution_count": 1,
   "metadata": {},
   "outputs": [],
   "source": [
    "correct = ['DLQTLALLL', 'DPQVAQLELGGEVEDPQVAQLELGGGPGAG', 'DLPVNSPMTKG', 'DLQTLALWSRM', 'DLQTLALNAAR', 'DLQTLALNAAR', 'DLQTLEVE', 'DLQTLALEVE']\n"
   ]
  },
  {
   "cell_type": "markdown",
   "metadata": {},
   "source": [
    "## Load params and run"
   ]
  },
  {
   "cell_type": "code",
   "execution_count": 2,
   "metadata": {},
   "outputs": [],
   "source": [
    "import os\n",
    "import sys\n",
    "module_path = os.path.abspath(os.path.join('..'))\n",
    "if module_path not in sys.path:\n",
    "    sys.path.append(module_path)\n",
    "module_path = os.path.abspath(os.path.join('../..'))\n",
    "if module_path not in sys.path:\n",
    "    sys.path.append(module_path)\n",
    "    \n",
    "from src import runner\n",
    "    "
   ]
  },
  {
   "cell_type": "code",
   "execution_count": 3,
   "metadata": {},
   "outputs": [],
   "source": [
    "specPath = '/Users/zacharymcgrath/Desktop/nod2 data/hybridSpec/'\n",
    "fastaPath = '/Users/zacharymcgrath/Desktop/nod2 data/filteredNOD2.fasta'\n",
    "outputDir = '/Users/zacharymcgrath/Desktop/Experiment output/hybridReal/'\n",
    "minPep = 3\n",
    "maxPep = 30\n",
    "tolerance = 20\n",
    "relative_abundance_filter = 0.005\n",
    "precursor_tolerance = 1\n",
    "peak_filter = 0\n",
    "verbose = True\n",
    "scoringAlg = 'ion'"
   ]
  },
  {
   "cell_type": "code",
   "execution_count": 4,
   "metadata": {},
   "outputs": [],
   "source": [
    "params = {\n",
    "    'spectra_folder': specPath,\n",
    "    'database_file': fastaPath,\n",
    "    'output_dir': outputDir,\n",
    "    'min_peptide_len': minPep,\n",
    "    'max_peptide_len': maxPep,\n",
    "    'tolerance': tolerance,\n",
    "    'precursor_tolerance': precursor_tolerance,\n",
    "    'peak_filter': peak_filter, \n",
    "    'relative_abundance_filter': relative_abundance_filter,\n",
    "    'verbose': verbose, \n",
    "    'scoring_alg': scoringAlg, \n",
    "    'DEBUG': True\n",
    "}"
   ]
  },
  {
   "cell_type": "code",
   "execution_count": 5,
   "metadata": {},
   "outputs": [
    {
     "name": "stdout",
     "output_type": "stream",
     "text": [
      "Loading database...\n",
      "Done\n",
      "Loading spectra...\n",
      "Done\n",
      "Making the protein mass set...\n",
      "On protein 37/280 [13%]"
     ]
    },
    {
     "ename": "KeyboardInterrupt",
     "evalue": "",
     "output_type": "error",
     "traceback": [
      "\u001b[0;31m---------------------------------------------------------------------------\u001b[0m",
      "\u001b[0;31mKeyboardInterrupt\u001b[0m                         Traceback (most recent call last)",
      "\u001b[0;32m<timed eval>\u001b[0m in \u001b[0;36m<module>\u001b[0;34m\u001b[0m\n",
      "\u001b[0;32m~/Documents/Layer_Research/hypedsearch/src/runner.py\u001b[0m in \u001b[0;36mrun\u001b[0;34m(args)\u001b[0m\n\u001b[1;32m     51\u001b[0m         \u001b[0mrelative_abundance_filter\u001b[0m\u001b[0;34m=\u001b[0m\u001b[0margs\u001b[0m\u001b[0;34m[\u001b[0m\u001b[0;34m'relative_abundance_filter'\u001b[0m\u001b[0;34m]\u001b[0m\u001b[0;34m,\u001b[0m\u001b[0;34m\u001b[0m\u001b[0;34m\u001b[0m\u001b[0m\n\u001b[1;32m     52\u001b[0m         \u001b[0mverbose\u001b[0m\u001b[0;34m=\u001b[0m\u001b[0;32mTrue\u001b[0m\u001b[0;34m,\u001b[0m\u001b[0;34m\u001b[0m\u001b[0;34m\u001b[0m\u001b[0m\n\u001b[0;32m---> 53\u001b[0;31m         \u001b[0mDEBUG\u001b[0m\u001b[0;34m=\u001b[0m\u001b[0margs\u001b[0m\u001b[0;34m[\u001b[0m\u001b[0;34m'DEBUG'\u001b[0m\u001b[0;34m]\u001b[0m\u001b[0;34m\u001b[0m\u001b[0;34m\u001b[0m\u001b[0m\n\u001b[0m\u001b[1;32m     54\u001b[0m     )\n\u001b[1;32m     55\u001b[0m     \u001b[0mprint\u001b[0m\u001b[0;34m(\u001b[0m\u001b[0;34m'\\nFinished search. Writting results to {}...'\u001b[0m\u001b[0;34m.\u001b[0m\u001b[0mformat\u001b[0m\u001b[0;34m(\u001b[0m\u001b[0margs\u001b[0m\u001b[0;34m[\u001b[0m\u001b[0;34m'output_dir'\u001b[0m\u001b[0;34m]\u001b[0m\u001b[0;34m)\u001b[0m\u001b[0;34m)\u001b[0m\u001b[0;34m\u001b[0m\u001b[0;34m\u001b[0m\u001b[0m\n",
      "\u001b[0;32m~/Documents/Layer_Research/hypedsearch/src/identification.py\u001b[0m in \u001b[0;36mid_spectra\u001b[0;34m(spectra_files, database_file, verbose, min_peptide_len, max_peptide_len, result_count, peak_filter, relative_abundance_filter, ppm_tolerance, precursor_tolerance, DEBUG)\u001b[0m\n\u001b[1;32m    226\u001b[0m     \u001b[0mprint\u001b[0m\u001b[0;34m(\u001b[0m\u001b[0;34m'Making the protein mass set...'\u001b[0m\u001b[0;34m)\u001b[0m\u001b[0;34m\u001b[0m\u001b[0;34m\u001b[0m\u001b[0m\n\u001b[1;32m    227\u001b[0m     \u001b[0mmax_len\u001b[0m \u001b[0;34m=\u001b[0m \u001b[0mpredicted_len\u001b[0m\u001b[0;34m(\u001b[0m\u001b[0mboundaries\u001b[0m\u001b[0;34m[\u001b[0m\u001b[0;34m-\u001b[0m\u001b[0;36m1\u001b[0m\u001b[0;34m]\u001b[0m\u001b[0;34m[\u001b[0m\u001b[0;36m1\u001b[0m\u001b[0;34m]\u001b[0m\u001b[0;34m)\u001b[0m\u001b[0;34m\u001b[0m\u001b[0;34m\u001b[0m\u001b[0m\n\u001b[0;32m--> 228\u001b[0;31m     \u001b[0mdb_list_b\u001b[0m\u001b[0;34m,\u001b[0m \u001b[0mindex_list_b\u001b[0m\u001b[0;34m,\u001b[0m \u001b[0mkmer_list_b\u001b[0m\u001b[0;34m,\u001b[0m \u001b[0mdb_list_y\u001b[0m\u001b[0;34m,\u001b[0m \u001b[0mindex_list_y\u001b[0m\u001b[0;34m,\u001b[0m \u001b[0mkmer_list_y\u001b[0m\u001b[0;34m,\u001b[0m \u001b[0mdb\u001b[0m \u001b[0;34m=\u001b[0m \u001b[0mmake_database_set\u001b[0m\u001b[0;34m(\u001b[0m\u001b[0mdb\u001b[0m\u001b[0;34m,\u001b[0m \u001b[0mmax_len\u001b[0m\u001b[0;34m)\u001b[0m\u001b[0;34m\u001b[0m\u001b[0;34m\u001b[0m\u001b[0m\n\u001b[0m\u001b[1;32m    229\u001b[0m     \u001b[0mprint\u001b[0m\u001b[0;34m(\u001b[0m\u001b[0;34mf'Done. Length of the list: {len(db_list_b) + len(db_list_y)}'\u001b[0m\u001b[0;34m)\u001b[0m\u001b[0;34m\u001b[0m\u001b[0;34m\u001b[0m\u001b[0m\n\u001b[1;32m    230\u001b[0m     \u001b[0mprint\u001b[0m\u001b[0;34m(\u001b[0m\u001b[0;34mf'Time to build: {round(time.time() - build_st, 4)} seconds'\u001b[0m\u001b[0;34m)\u001b[0m\u001b[0;34m\u001b[0m\u001b[0;34m\u001b[0m\u001b[0m\n",
      "\u001b[0;32m~/Documents/Layer_Research/hypedsearch/src/identification.py\u001b[0m in \u001b[0;36mmake_database_set\u001b[0;34m(db, max_len)\u001b[0m\n\u001b[1;32m     81\u001b[0m         \u001b[0;32mfor\u001b[0m \u001b[0mj\u001b[0m \u001b[0;32min\u001b[0m \u001b[0mrange\u001b[0m\u001b[0;34m(\u001b[0m\u001b[0mlen\u001b[0m\u001b[0;34m(\u001b[0m\u001b[0mprot_entry\u001b[0m\u001b[0;34m.\u001b[0m\u001b[0msequence\u001b[0m\u001b[0;34m)\u001b[0m \u001b[0;34m-\u001b[0m \u001b[0mmax_len\u001b[0m\u001b[0;34m)\u001b[0m\u001b[0;34m:\u001b[0m\u001b[0;34m\u001b[0m\u001b[0;34m\u001b[0m\u001b[0m\n\u001b[1;32m     82\u001b[0m             \u001b[0mkmer\u001b[0m \u001b[0;34m=\u001b[0m \u001b[0mprot_entry\u001b[0m\u001b[0;34m.\u001b[0m\u001b[0msequence\u001b[0m\u001b[0;34m[\u001b[0m\u001b[0mj\u001b[0m\u001b[0;34m:\u001b[0m\u001b[0mj\u001b[0m\u001b[0;34m+\u001b[0m\u001b[0mmax_len\u001b[0m\u001b[0;34m]\u001b[0m\u001b[0;34m\u001b[0m\u001b[0;34m\u001b[0m\u001b[0m\n\u001b[0;32m---> 83\u001b[0;31m             \u001b[0madd_all\u001b[0m\u001b[0;34m(\u001b[0m\u001b[0mkmer\u001b[0m\u001b[0;34m,\u001b[0m \u001b[0mprot_name\u001b[0m\u001b[0;34m)\u001b[0m\u001b[0;34m\u001b[0m\u001b[0;34m\u001b[0m\u001b[0m\n\u001b[0m\u001b[1;32m     84\u001b[0m \u001b[0;34m\u001b[0m\u001b[0m\n\u001b[1;32m     85\u001b[0m         \u001b[0;32mfor\u001b[0m \u001b[0mj\u001b[0m \u001b[0;32min\u001b[0m \u001b[0mrange\u001b[0m\u001b[0;34m(\u001b[0m\u001b[0mlen\u001b[0m\u001b[0;34m(\u001b[0m\u001b[0mprot_entry\u001b[0m\u001b[0;34m.\u001b[0m\u001b[0msequence\u001b[0m\u001b[0;34m)\u001b[0m \u001b[0;34m-\u001b[0m \u001b[0mmax_len\u001b[0m\u001b[0;34m,\u001b[0m \u001b[0mlen\u001b[0m\u001b[0;34m(\u001b[0m\u001b[0mprot_entry\u001b[0m\u001b[0;34m.\u001b[0m\u001b[0msequence\u001b[0m\u001b[0;34m)\u001b[0m\u001b[0;34m)\u001b[0m\u001b[0;34m:\u001b[0m\u001b[0;34m\u001b[0m\u001b[0;34m\u001b[0m\u001b[0m\n",
      "\u001b[0;32m~/Documents/Layer_Research/hypedsearch/src/identification.py\u001b[0m in \u001b[0;36madd_all\u001b[0;34m(kmer, prot_name)\u001b[0m\n\u001b[1;32m     64\u001b[0m \u001b[0;34m\u001b[0m\u001b[0m\n\u001b[1;32m     65\u001b[0m                     \u001b[0;31m# convert to a bit representation\u001b[0m\u001b[0;34m\u001b[0m\u001b[0;34m\u001b[0m\u001b[0;34m\u001b[0m\u001b[0m\n\u001b[0;32m---> 66\u001b[0;31m                     \u001b[0mbit_kmer\u001b[0m \u001b[0;34m=\u001b[0m \u001b[0mbits\u001b[0m\u001b[0;34m.\u001b[0m\u001b[0mstr_to_bits\u001b[0m\u001b[0;34m(\u001b[0m\u001b[0mkmer_to_add\u001b[0m\u001b[0;34m)\u001b[0m\u001b[0;34m\u001b[0m\u001b[0;34m\u001b[0m\u001b[0m\n\u001b[0m\u001b[1;32m     67\u001b[0m                     \u001b[0mr_d\u001b[0m\u001b[0;34m[\u001b[0m\u001b[0mmz\u001b[0m\u001b[0;34m]\u001b[0m\u001b[0;34m.\u001b[0m\u001b[0mappend\u001b[0m\u001b[0;34m(\u001b[0m\u001b[0mbit_kmer\u001b[0m\u001b[0;34m)\u001b[0m\u001b[0;34m\u001b[0m\u001b[0;34m\u001b[0m\u001b[0m\n\u001b[1;32m     68\u001b[0m                     \u001b[0mkmer_t\u001b[0m\u001b[0;34m.\u001b[0m\u001b[0maddSequence\u001b[0m\u001b[0;34m(\u001b[0m\u001b[0mkmer_to_add\u001b[0m\u001b[0;34m,\u001b[0m \u001b[0mprot_name\u001b[0m\u001b[0;34m)\u001b[0m\u001b[0;34m\u001b[0m\u001b[0;34m\u001b[0m\u001b[0m\n",
      "\u001b[0;32m~/Documents/Layer_Research/hypedsearch/src/bits.py\u001b[0m in \u001b[0;36mstr_to_bits\u001b[0;34m(string)\u001b[0m\n\u001b[1;32m     39\u001b[0m         \u001b[0mBitArray\u001b[0m\u001b[0;34m\u001b[0m\u001b[0;34m\u001b[0m\u001b[0m\n\u001b[1;32m     40\u001b[0m     '''\n\u001b[0;32m---> 41\u001b[0;31m     \u001b[0mbit_arr\u001b[0m \u001b[0;34m=\u001b[0m \u001b[0mBitArray\u001b[0m\u001b[0;34m(\u001b[0m\u001b[0;34m'0b0'\u001b[0m\u001b[0;34m)\u001b[0m\u001b[0;34m\u001b[0m\u001b[0;34m\u001b[0m\u001b[0m\n\u001b[0m\u001b[1;32m     42\u001b[0m     \u001b[0;32mfor\u001b[0m \u001b[0mc\u001b[0m \u001b[0;32min\u001b[0m \u001b[0mstring\u001b[0m\u001b[0;34m:\u001b[0m\u001b[0;34m\u001b[0m\u001b[0;34m\u001b[0m\u001b[0m\n\u001b[1;32m     43\u001b[0m         \u001b[0;32mif\u001b[0m \u001b[0mc\u001b[0m \u001b[0;32min\u001b[0m \u001b[0mchar_to_bits\u001b[0m\u001b[0;34m:\u001b[0m\u001b[0;34m\u001b[0m\u001b[0;34m\u001b[0m\u001b[0m\n",
      "\u001b[0;32m~/Library/Python/3.7/lib/python/site-packages/bitstring.py\u001b[0m in \u001b[0;36m__new__\u001b[0;34m(cls, auto, length, offset, **kwargs)\u001b[0m\n\u001b[1;32m   3132\u001b[0m         x._datastore = ByteStore(y._datastore._rawarray[:],\n\u001b[1;32m   3133\u001b[0m                                           \u001b[0my\u001b[0m\u001b[0;34m.\u001b[0m\u001b[0m_datastore\u001b[0m\u001b[0;34m.\u001b[0m\u001b[0mbitlength\u001b[0m\u001b[0;34m,\u001b[0m\u001b[0;34m\u001b[0m\u001b[0;34m\u001b[0m\u001b[0m\n\u001b[0;32m-> 3134\u001b[0;31m                                           y._datastore.offset)\n\u001b[0m\u001b[1;32m   3135\u001b[0m         \u001b[0;32mreturn\u001b[0m \u001b[0mx\u001b[0m\u001b[0;34m\u001b[0m\u001b[0;34m\u001b[0m\u001b[0m\n\u001b[1;32m   3136\u001b[0m \u001b[0;34m\u001b[0m\u001b[0m\n",
      "\u001b[0;31mKeyboardInterrupt\u001b[0m: "
     ]
    }
   ],
   "source": [
    "%%time\n",
    "runner.run(params)"
   ]
  },
  {
   "cell_type": "markdown",
   "metadata": {},
   "source": [
    "## Load and read results"
   ]
  },
  {
   "cell_type": "code",
   "execution_count": 6,
   "metadata": {},
   "outputs": [],
   "source": [
    "import pandas as pd\n",
    "\n",
    "outputFile = outputDir + 'summary.tsv'\n",
    "hybridOutputFile = outputDir + 'hybrid_summary.tsv'"
   ]
  },
  {
   "cell_type": "code",
   "execution_count": 7,
   "metadata": {},
   "outputs": [],
   "source": [
    "df = pd.read_csv(outputFile, sep='\\t')\n",
    "hdf = pd.read_csv(hybridOutputFile, sep='\\t')"
   ]
  },
  {
   "cell_type": "code",
   "execution_count": 8,
   "metadata": {},
   "outputs": [
    {
     "data": {
      "text/html": [
       "<div>\n",
       "<style scoped>\n",
       "    .dataframe tbody tr th:only-of-type {\n",
       "        vertical-align: middle;\n",
       "    }\n",
       "\n",
       "    .dataframe tbody tr th {\n",
       "        vertical-align: top;\n",
       "    }\n",
       "\n",
       "    .dataframe thead th {\n",
       "        text-align: right;\n",
       "    }\n",
       "</style>\n",
       "<table border=\"1\" class=\"dataframe\">\n",
       "  <thead>\n",
       "    <tr style=\"text-align: right;\">\n",
       "      <th></th>\n",
       "      <th>Unnamed: 0</th>\n",
       "      <th>left_proteins</th>\n",
       "      <th>right_proteins</th>\n",
       "      <th>sequence</th>\n",
       "      <th>hybrid_sequence</th>\n",
       "      <th>b_score</th>\n",
       "      <th>y_score</th>\n",
       "      <th>total_score</th>\n",
       "      <th>precursor_distance</th>\n",
       "      <th>entry name</th>\n",
       "      <th>id</th>\n",
       "    </tr>\n",
       "  </thead>\n",
       "  <tbody>\n",
       "    <tr>\n",
       "      <td>0</td>\n",
       "      <td>0</td>\n",
       "      <td>['sp|P01325|INS1_MOUSE Insulin-1 OS=Mus muscul...</td>\n",
       "      <td>['sp|Q8BJU0|SGTA_MOUSE Small glutamine-rich te...</td>\n",
       "      <td>DLQTLALII</td>\n",
       "      <td>DLQTLAL-II</td>\n",
       "      <td>6</td>\n",
       "      <td>2</td>\n",
       "      <td>7.0</td>\n",
       "      <td>0.000194</td>\n",
       "      <td>0</td>\n",
       "      <td>NOD2_E3.21510.21510.2.pkl</td>\n",
       "    </tr>\n",
       "    <tr>\n",
       "      <td>1</td>\n",
       "      <td>1</td>\n",
       "      <td>['sp|P01326|INS2_MOUSE Insulin-2 OS=Mus muscul...</td>\n",
       "      <td>['sp|P01326|INS2_MOUSE Insulin-2 OS=Mus muscul...</td>\n",
       "      <td>DPQVAQLELGGGPGAGDLQTAQLELGGGPGAG</td>\n",
       "      <td>DPQVAQLELGGGPGAGDLQT-AQLELGGGPGAG</td>\n",
       "      <td>16</td>\n",
       "      <td>8</td>\n",
       "      <td>20.0</td>\n",
       "      <td>0.505994</td>\n",
       "      <td>1</td>\n",
       "      <td>NOD2_E3.12771.12902.3.pkl</td>\n",
       "    </tr>\n",
       "    <tr>\n",
       "      <td>2</td>\n",
       "      <td>2</td>\n",
       "      <td>['sp|P12658|CALB1_MOUSE Calbindin OS=Mus muscu...</td>\n",
       "      <td>['sp|P26339|CMGA_MOUSE Chromogranin-A OS=Mus m...</td>\n",
       "      <td>LDPVNSPMTKG</td>\n",
       "      <td>LD-PVNSPMTKG</td>\n",
       "      <td>2</td>\n",
       "      <td>5</td>\n",
       "      <td>6.5</td>\n",
       "      <td>0.000452</td>\n",
       "      <td>2</td>\n",
       "      <td>NOD2_E3.7065.7065.2.pkl</td>\n",
       "    </tr>\n",
       "    <tr>\n",
       "      <td>3</td>\n",
       "      <td>3</td>\n",
       "      <td>['sp|P01325|INS1_MOUSE Insulin-1 OS=Mus muscul...</td>\n",
       "      <td>['sp|Q6GQX6|ANKS6_MOUSE Ankyrin repeat and SAM...</td>\n",
       "      <td>DLQTLALWSRM</td>\n",
       "      <td>DLQTLAL-WSRM</td>\n",
       "      <td>5</td>\n",
       "      <td>8</td>\n",
       "      <td>12.5</td>\n",
       "      <td>0.000192</td>\n",
       "      <td>3</td>\n",
       "      <td>NOD2_E3.16373.16401.2.pkl</td>\n",
       "    </tr>\n",
       "    <tr>\n",
       "      <td>4</td>\n",
       "      <td>4</td>\n",
       "      <td>['sp|P01325|INS1_MOUSE Insulin-1 OS=Mus muscul...</td>\n",
       "      <td>['sp|NOD0001|IAPP_MOUSE NOD Islet amyloid poly...</td>\n",
       "      <td>DLQTLALNAAR</td>\n",
       "      <td>DLQTLAL-NAAR</td>\n",
       "      <td>4</td>\n",
       "      <td>9</td>\n",
       "      <td>12.0</td>\n",
       "      <td>0.000812</td>\n",
       "      <td>4</td>\n",
       "      <td>NOD2_E3.10614.10681.2.pkl</td>\n",
       "    </tr>\n",
       "  </tbody>\n",
       "</table>\n",
       "</div>"
      ],
      "text/plain": [
       "   Unnamed: 0                                      left_proteins  \\\n",
       "0           0  ['sp|P01325|INS1_MOUSE Insulin-1 OS=Mus muscul...   \n",
       "1           1  ['sp|P01326|INS2_MOUSE Insulin-2 OS=Mus muscul...   \n",
       "2           2  ['sp|P12658|CALB1_MOUSE Calbindin OS=Mus muscu...   \n",
       "3           3  ['sp|P01325|INS1_MOUSE Insulin-1 OS=Mus muscul...   \n",
       "4           4  ['sp|P01325|INS1_MOUSE Insulin-1 OS=Mus muscul...   \n",
       "\n",
       "                                      right_proteins  \\\n",
       "0  ['sp|Q8BJU0|SGTA_MOUSE Small glutamine-rich te...   \n",
       "1  ['sp|P01326|INS2_MOUSE Insulin-2 OS=Mus muscul...   \n",
       "2  ['sp|P26339|CMGA_MOUSE Chromogranin-A OS=Mus m...   \n",
       "3  ['sp|Q6GQX6|ANKS6_MOUSE Ankyrin repeat and SAM...   \n",
       "4  ['sp|NOD0001|IAPP_MOUSE NOD Islet amyloid poly...   \n",
       "\n",
       "                           sequence                    hybrid_sequence  \\\n",
       "0                         DLQTLALII                         DLQTLAL-II   \n",
       "1  DPQVAQLELGGGPGAGDLQTAQLELGGGPGAG  DPQVAQLELGGGPGAGDLQT-AQLELGGGPGAG   \n",
       "2                       LDPVNSPMTKG                       LD-PVNSPMTKG   \n",
       "3                       DLQTLALWSRM                       DLQTLAL-WSRM   \n",
       "4                       DLQTLALNAAR                       DLQTLAL-NAAR   \n",
       "\n",
       "   b_score  y_score  total_score  precursor_distance  entry name  \\\n",
       "0        6        2          7.0            0.000194           0   \n",
       "1       16        8         20.0            0.505994           1   \n",
       "2        2        5          6.5            0.000452           2   \n",
       "3        5        8         12.5            0.000192           3   \n",
       "4        4        9         12.0            0.000812           4   \n",
       "\n",
       "                          id  \n",
       "0  NOD2_E3.21510.21510.2.pkl  \n",
       "1  NOD2_E3.12771.12902.3.pkl  \n",
       "2    NOD2_E3.7065.7065.2.pkl  \n",
       "3  NOD2_E3.16373.16401.2.pkl  \n",
       "4  NOD2_E3.10614.10681.2.pkl  "
      ]
     },
     "execution_count": 8,
     "metadata": {},
     "output_type": "execute_result"
    }
   ],
   "source": [
    "hdf.head(10)"
   ]
  },
  {
   "cell_type": "code",
   "execution_count": 9,
   "metadata": {},
   "outputs": [
    {
     "data": {
      "text/html": [
       "<div>\n",
       "<style scoped>\n",
       "    .dataframe tbody tr th:only-of-type {\n",
       "        vertical-align: middle;\n",
       "    }\n",
       "\n",
       "    .dataframe tbody tr th {\n",
       "        vertical-align: top;\n",
       "    }\n",
       "\n",
       "    .dataframe thead th {\n",
       "        text-align: right;\n",
       "    }\n",
       "</style>\n",
       "<table border=\"1\" class=\"dataframe\">\n",
       "  <thead>\n",
       "    <tr style=\"text-align: right;\">\n",
       "      <th></th>\n",
       "      <th>Unnamed: 0</th>\n",
       "      <th>proteins</th>\n",
       "      <th>sequence</th>\n",
       "      <th>b_score</th>\n",
       "      <th>y_score</th>\n",
       "      <th>total_score</th>\n",
       "      <th>precursor_distance</th>\n",
       "      <th>entry name</th>\n",
       "      <th>id</th>\n",
       "    </tr>\n",
       "  </thead>\n",
       "  <tbody>\n",
       "    <tr>\n",
       "      <td>0</td>\n",
       "      <td>0</td>\n",
       "      <td>[]</td>\n",
       "      <td>DLQTLALNARA</td>\n",
       "      <td>4</td>\n",
       "      <td>9</td>\n",
       "      <td>13</td>\n",
       "      <td>0.504749</td>\n",
       "      <td>5</td>\n",
       "      <td>NOD2_E3.10635.10674.3.pkl</td>\n",
       "    </tr>\n",
       "    <tr>\n",
       "      <td>1</td>\n",
       "      <td>1</td>\n",
       "      <td>[]</td>\n",
       "      <td>ELTNIENI</td>\n",
       "      <td>6</td>\n",
       "      <td>1</td>\n",
       "      <td>7</td>\n",
       "      <td>0.492301</td>\n",
       "      <td>6</td>\n",
       "      <td>NOD2_E3.11427.11516.2.pkl</td>\n",
       "    </tr>\n",
       "    <tr>\n",
       "      <td>2</td>\n",
       "      <td>2</td>\n",
       "      <td>[]</td>\n",
       "      <td>DLQTLALEVE</td>\n",
       "      <td>7</td>\n",
       "      <td>4</td>\n",
       "      <td>11</td>\n",
       "      <td>0.004477</td>\n",
       "      <td>7</td>\n",
       "      <td>NOD2_E3.16920.17393.2.pkl</td>\n",
       "    </tr>\n",
       "  </tbody>\n",
       "</table>\n",
       "</div>"
      ],
      "text/plain": [
       "   Unnamed: 0 proteins     sequence  b_score  y_score  total_score  \\\n",
       "0           0       []  DLQTLALNARA        4        9           13   \n",
       "1           1       []     ELTNIENI        6        1            7   \n",
       "2           2       []   DLQTLALEVE        7        4           11   \n",
       "\n",
       "   precursor_distance  entry name                         id  \n",
       "0            0.504749           5  NOD2_E3.10635.10674.3.pkl  \n",
       "1            0.492301           6  NOD2_E3.11427.11516.2.pkl  \n",
       "2            0.004477           7  NOD2_E3.16920.17393.2.pkl  "
      ]
     },
     "execution_count": 9,
     "metadata": {},
     "output_type": "execute_result"
    }
   ],
   "source": [
    "df.head(10)"
   ]
  },
  {
   "cell_type": "code",
   "execution_count": 10,
   "metadata": {},
   "outputs": [],
   "source": [
    "import json\n",
    "\n",
    "s = json.load(open(outputDir + 'summary.json', 'r'))"
   ]
  },
  {
   "cell_type": "code",
   "execution_count": 11,
   "metadata": {},
   "outputs": [
    {
     "name": "stdout",
     "output_type": "stream",
     "text": [
      "Alignment for spectrum 0 \t \"correct\": DLQTLALLL \n",
      " ==============================\n",
      "DLQTLALII: \t 7.0, \t 6, \t 2\n",
      "DLQTLALIL: \t 7.0, \t 6, \t 2\n",
      "ALTITTGPLL: \t 7, \t 4, \t 3\n",
      "LATALTSPII: \t 7, \t 4, \t 3\n",
      "LATALTSPIL: \t 7, \t 4, \t 3\n",
      "\n",
      "Alignment for spectrum 1 \t \"correct\": DPQVAQLELGGEVEDPQVAQLELGGGPGAG \n",
      " ==============================\n",
      "DPQVAQLELGGGPGAGDLQTAQLELGGGPGAG: \t 20.0, \t 16, \t 8\n",
      "DPQVAQLELGGEVEDPQVAQLELGGGPGAG: \t 15.0, \t 10, \t 9\n",
      "DPQVAQLELGGGPVGHVHCREIICSVAF: \t 13.5, \t 12, \t 4\n",
      "DPQVAQLELGGSEESALNHLQGAGGAEPR: \t 13.0, \t 9, \t 5\n",
      "PGAGDLQTLALEVAQDPQVAQLELGGGPGAG: \t 12.5, \t 7, \t 9\n",
      "\n",
      "Alignment for spectrum 2 \t \"correct\": DLPVNSPMTKG \n",
      " ==============================\n",
      "LDPVNSPMTKG: \t 6.5, \t 2, \t 5\n",
      "IDPVNSPMTKG: \t 6.5, \t 2, \t 5\n",
      "DIPVNSPMTKG: \t 6.5, \t 2, \t 5\n",
      "EVPVNSPMTKG: \t 6.5, \t 2, \t 5\n",
      "VEPVNSPMTKG: \t 6.5, \t 2, \t 5\n",
      "\n",
      "Alignment for spectrum 3 \t \"correct\": DLQTLALWSRM \n",
      " ==============================\n",
      "DLQTLALWSRM: \t 12.5, \t 5, \t 8\n",
      "DLQTLAITFTNP: \t 11.5, \t 5, \t 7\n",
      "DLQTLALEFGLGG: \t 11.0, \t 5, \t 7\n",
      "DLQTLALGQIFD: \t 11, \t 5, \t 6\n",
      "DLQTLANSESKK: \t 10.0, \t 5, \t 6\n",
      "\n",
      "Alignment for spectrum 4 \t \"correct\": DLQTLALNAAR \n",
      " ==============================\n",
      "DLQTLALNAAR: \t 12.0, \t 4, \t 9\n",
      "DLQTLALQQR: \t 12, \t 4, \t 8\n",
      "DLQTLALNARA: \t 11.5, \t 4, \t 8\n",
      "DLQTLAIQQR: \t 11.0, \t 4, \t 8\n",
      "DLQTLALGAQR: \t 11.0, \t 4, \t 8\n",
      "\n",
      "Alignment for spectrum 5 \t \"correct\": DLQTLALNAAR \n",
      " ==============================\n",
      "DLQTLALNARA: \t 13, \t 4, \t 9\n",
      "DLQTLALNAAR: \t 12.5, \t 4, \t 10\n",
      "EVQITALQQR: \t 12, \t 5, \t 7\n",
      "EVQITALGQRA: \t 12, \t 5, \t 7\n",
      "DLQTLALQQR: \t 12, \t 4, \t 8\n",
      "\n",
      "Alignment for spectrum 6 \t \"correct\": DLQTLEVE \n",
      " ==============================\n",
      "ELTNIENI: \t 7, \t 6, \t 1\n",
      "ELTNIELL: \t 7, \t 6, \t 1\n",
      "TLEQMPDL: \t 7.0, \t 5, \t 3\n",
      "TIEQMPDL: \t 7.0, \t 5, \t 3\n",
      "ELTQMPDL: \t 7.0, \t 5, \t 3\n",
      "\n",
      "Alignment for spectrum 7 \t \"correct\": DLQTLALEVE \n",
      " ==============================\n",
      "DLQTLALEVE: \t 11, \t 7, \t 4\n",
      "EIAEKALEVE: \t 11, \t 7, \t 4\n",
      "DLQTLAIEVE: \t 10.0, \t 7, \t 4\n",
      "DLQTLALEEV: \t 10, \t 7, \t 3\n",
      "DLQTLALELD: \t 10, \t 7, \t 3\n",
      "\n"
     ]
    }
   ],
   "source": [
    "for i, (k, v) in enumerate(s.items()):\n",
    "    c = correct[i]\n",
    "    print(f'Alignment for spectrum {i} \\t \"correct\": {c} \\n ==============================')\n",
    "    for a in v['alignments']:\n",
    "        print(f'{a[\"sequence\"]}: \\t {a[\"total_score\"]}, \\t {a[\"b_score\"]}, \\t {a[\"y_score\"]}')\n",
    "    print()\n",
    "\n",
    "    "
   ]
  },
  {
   "cell_type": "code",
   "execution_count": null,
   "metadata": {},
   "outputs": [],
   "source": []
  },
  {
   "cell_type": "code",
   "execution_count": 12,
   "metadata": {},
   "outputs": [],
   "source": [
    "from src.sequence.gen_spectra import gen_spectrum"
   ]
  },
  {
   "cell_type": "code",
   "execution_count": 12,
   "metadata": {},
   "outputs": [
    {
     "data": {
      "text/plain": [
       "[72.044390435,\n",
       " 173.09206943499998,\n",
       " 260.12409743499995,\n",
       " 357.176861435,\n",
       " 485.235439435,\n",
       " 598.319503435,\n",
       " 727.362096435,\n",
       " 840.446160435,\n",
       " 897.4676244350001,\n",
       " 954.4890884350001,\n",
       " 1041.521116435,\n",
       " 1138.573880435,\n",
       " 1195.595344435]"
      ]
     },
     "execution_count": 12,
     "metadata": {},
     "output_type": "execute_result"
    }
   ],
   "source": [
    "seq1 = 'QVEQLELGGSPG'\n",
    "seq2 = 'ATSPQLELGGSPG'\n",
    "\n",
    "gen_spectrum(seq2, ion='b', charge=1)['spectrum']"
   ]
  },
  {
   "cell_type": "code",
   "execution_count": null,
   "metadata": {},
   "outputs": [],
   "source": []
  }
 ],
 "metadata": {
  "kernelspec": {
   "display_name": "Python 3",
   "language": "python",
   "name": "python3"
  },
  "language_info": {
   "codemirror_mode": {
    "name": "ipython",
    "version": 3
   },
   "file_extension": ".py",
   "mimetype": "text/x-python",
   "name": "python",
   "nbconvert_exporter": "python",
   "pygments_lexer": "ipython3",
   "version": "3.7.4"
  }
 },
 "nbformat": 4,
 "nbformat_minor": 4
}
