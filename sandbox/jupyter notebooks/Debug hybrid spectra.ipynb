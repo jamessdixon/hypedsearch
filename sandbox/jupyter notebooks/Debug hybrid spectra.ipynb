{
 "cells": [
  {
   "cell_type": "markdown",
   "metadata": {},
   "source": [
    "# Debug the real spectra\n",
    "\n",
    "So it doesn't work well with real data, so having taken out one example of real data, the sequence is\n",
    "\n",
    "__NOTE__: These are ALL hybrids\n",
    "\n",
    "\n",
    "1. `DLQTLALLL`\n",
    "2. `DPQVAQLELGGEVEDPQVAQLELGGGPGAG`\n",
    "3. `DLPVNSPMTKG`\n",
    "4. `DLQTLALWSRM`\n",
    "5. `DLQTLALNAAR`\n",
    "6. `DLQTLALNAAR`\n",
    "7. `DLQTLEVE`\n",
    "8. `DLQTLALEVE`\n",
    "\n",
    "so toy with the tool until we find out whats wrong"
   ]
  },
  {
   "cell_type": "code",
   "execution_count": 1,
   "metadata": {},
   "outputs": [],
   "source": [
    "correct = ['DLQTLALLL', 'DPQVAQLELGGEVEDPQVAQLELGGGPGAG', 'DLPVNSPMTKG', 'DLQTLALWSRM', 'DLQTLALNAAR', 'DLQTLALNAAR', 'DLQTLEVE', 'DLQTLALEVE']\n"
   ]
  },
  {
   "cell_type": "markdown",
   "metadata": {},
   "source": [
    "## Load params and run"
   ]
  },
  {
   "cell_type": "code",
   "execution_count": 2,
   "metadata": {},
   "outputs": [],
   "source": [
    "import os\n",
    "import sys\n",
    "module_path = os.path.abspath(os.path.join('..'))\n",
    "if module_path not in sys.path:\n",
    "    sys.path.append(module_path)\n",
    "module_path = os.path.abspath(os.path.join('../..'))\n",
    "if module_path not in sys.path:\n",
    "    sys.path.append(module_path)\n",
    "    \n",
    "from src import runner\n",
    "    "
   ]
  },
  {
   "cell_type": "code",
   "execution_count": 3,
   "metadata": {},
   "outputs": [],
   "source": [
    "specPath = '/Users/zacharymcgrath/Desktop/nod2 data/hybridSpec/'\n",
    "fastaPath = '/Users/zacharymcgrath/Desktop/nod2 data/filteredNOD2.fasta'\n",
    "outputDir = '/Users/zacharymcgrath/Desktop/Experiment output/hybridReal/'\n",
    "minPep = 3\n",
    "maxPep = 30\n",
    "tolerance = 20\n",
    "relative_abundance_filter = 0.005\n",
    "precursor_tolerance = 1\n",
    "peak_filter = 0\n",
    "verbose = True\n",
    "scoringAlg = 'ion'"
   ]
  },
  {
   "cell_type": "code",
   "execution_count": 4,
   "metadata": {},
   "outputs": [],
   "source": [
    "params = {\n",
    "    'spectra_folder': specPath,\n",
    "    'database_file': fastaPath,\n",
    "    'output_dir': outputDir,\n",
    "    'min_peptide_len': minPep,\n",
    "    'max_peptide_len': maxPep,\n",
    "    'tolerance': tolerance,\n",
    "    'precursor_tolerance': precursor_tolerance,\n",
    "    'peak_filter': peak_filter, \n",
    "    'relative_abundance_filter': relative_abundance_filter,\n",
    "    'verbose': verbose, \n",
    "    'scoring_alg': scoringAlg, \n",
    "    'DEBUG': True\n",
    "}"
   ]
  },
  {
   "cell_type": "code",
   "execution_count": 5,
   "metadata": {},
   "outputs": [
    {
     "name": "stdout",
     "output_type": "stream",
     "text": [
      "Loading database...\n",
      "Done\n",
      "Number of proteins: 280\n",
      "Loading spectra...\n",
      "Done\n",
      "Indexing database against spectra for faster searches...\n",
      "On batch 1/1\n",
      "On protein 280/280 [100%]\n",
      "Sorting the set of protein masses...\n",
      "Done\n",
      "Creating an alignment for 8/8 [100%]\n",
      "Finished search. Writting results to /Users/zacharymcgrath/Desktop/Experiment output/hybridReal/...\n",
      "Could not make an alignment for 0/8 spectra (0%)\n",
      "CPU times: user 2min 48s, sys: 1.03 s, total: 2min 50s\n",
      "Wall time: 2min 50s\n"
     ]
    }
   ],
   "source": [
    "%%time\n",
    "runner.run(params)"
   ]
  },
  {
   "cell_type": "markdown",
   "metadata": {},
   "source": [
    "## Load and read results"
   ]
  },
  {
   "cell_type": "code",
   "execution_count": 6,
   "metadata": {},
   "outputs": [],
   "source": [
    "import pandas as pd\n",
    "\n",
    "outputFile = outputDir + 'summary.tsv'\n",
    "hybridOutputFile = outputDir + 'hybrid_summary.tsv'"
   ]
  },
  {
   "cell_type": "code",
   "execution_count": 7,
   "metadata": {},
   "outputs": [],
   "source": [
    "df = pd.read_csv(outputFile, sep='\\t')\n",
    "hdf = pd.read_csv(hybridOutputFile, sep='\\t')"
   ]
  },
  {
   "cell_type": "code",
   "execution_count": 8,
   "metadata": {},
   "outputs": [
    {
     "data": {
      "text/html": [
       "<div>\n",
       "<style scoped>\n",
       "    .dataframe tbody tr th:only-of-type {\n",
       "        vertical-align: middle;\n",
       "    }\n",
       "\n",
       "    .dataframe tbody tr th {\n",
       "        vertical-align: top;\n",
       "    }\n",
       "\n",
       "    .dataframe thead th {\n",
       "        text-align: right;\n",
       "    }\n",
       "</style>\n",
       "<table border=\"1\" class=\"dataframe\">\n",
       "  <thead>\n",
       "    <tr style=\"text-align: right;\">\n",
       "      <th></th>\n",
       "      <th>Unnamed: 0</th>\n",
       "      <th>left_proteins</th>\n",
       "      <th>right_proteins</th>\n",
       "      <th>sequence</th>\n",
       "      <th>hybrid_sequence</th>\n",
       "      <th>b_score</th>\n",
       "      <th>y_score</th>\n",
       "      <th>total_score</th>\n",
       "      <th>precursor_distance</th>\n",
       "      <th>entry name</th>\n",
       "      <th>id</th>\n",
       "    </tr>\n",
       "  </thead>\n",
       "  <tbody>\n",
       "    <tr>\n",
       "      <td>0</td>\n",
       "      <td>0</td>\n",
       "      <td>['INS1_MOUSE', 'INS1_MOUSE', 'INS1_MOUSE', 'IN...</td>\n",
       "      <td>['ERP44_MOUSE', 'ERP44_MOUSE', 'ERP44_MOUSE', ...</td>\n",
       "      <td>DLQTLALIL</td>\n",
       "      <td>DLQTLAL-IL</td>\n",
       "      <td>6</td>\n",
       "      <td>2</td>\n",
       "      <td>7.0</td>\n",
       "      <td>0.000194</td>\n",
       "      <td>0</td>\n",
       "      <td>NOD2_E3.21510.21510.2.pkl</td>\n",
       "    </tr>\n",
       "    <tr>\n",
       "      <td>1</td>\n",
       "      <td>1</td>\n",
       "      <td>['INS2_MOUSE']</td>\n",
       "      <td>['INS2_MOUSE']</td>\n",
       "      <td>DPQVAQLELGGGPGAGDLQTAQLELGGGPGAG</td>\n",
       "      <td>DPQVAQLELGGGPGAGDLQT-AQLELGGGPGAG</td>\n",
       "      <td>16</td>\n",
       "      <td>8</td>\n",
       "      <td>20.0</td>\n",
       "      <td>0.505994</td>\n",
       "      <td>1</td>\n",
       "      <td>NOD2_E3.12771.12902.3.pkl</td>\n",
       "    </tr>\n",
       "    <tr>\n",
       "      <td>2</td>\n",
       "      <td>2</td>\n",
       "      <td>['ERP44_MOUSE', 'ERP44_MOUSE', 'ERP44_MOUSE', ...</td>\n",
       "      <td>['CMGA_MOUSE', 'CMGA_MOUSE', 'CMGA_MOUSE', 'CM...</td>\n",
       "      <td>IDPVNSPMTKG</td>\n",
       "      <td>ID-PVNSPMTKG</td>\n",
       "      <td>2</td>\n",
       "      <td>5</td>\n",
       "      <td>6.5</td>\n",
       "      <td>0.000452</td>\n",
       "      <td>2</td>\n",
       "      <td>NOD2_E3.7065.7065.2.pkl</td>\n",
       "    </tr>\n",
       "    <tr>\n",
       "      <td>3</td>\n",
       "      <td>3</td>\n",
       "      <td>['INS1_MOUSE', 'INS1_MOUSE', 'INS1_MOUSE', 'IN...</td>\n",
       "      <td>['CMGA_MOUSE', 'CMGA_MOUSE', 'CMGA_MOUSE', 'CM...</td>\n",
       "      <td>DLQTLALWSRM</td>\n",
       "      <td>DLQTLAL-WSRM</td>\n",
       "      <td>5</td>\n",
       "      <td>8</td>\n",
       "      <td>12.5</td>\n",
       "      <td>0.000192</td>\n",
       "      <td>3</td>\n",
       "      <td>NOD2_E3.16373.16401.2.pkl</td>\n",
       "    </tr>\n",
       "    <tr>\n",
       "      <td>4</td>\n",
       "      <td>4</td>\n",
       "      <td>['INS1_MOUSE', 'INS1_MOUSE', 'INS1_MOUSE', 'IN...</td>\n",
       "      <td>['IAPP_MOUSE', 'IAPP_MOUSE', 'IAPP_MOUSE', 'IA...</td>\n",
       "      <td>DLQTLALNAAR</td>\n",
       "      <td>DLQTLAL-NAAR</td>\n",
       "      <td>4</td>\n",
       "      <td>9</td>\n",
       "      <td>12.0</td>\n",
       "      <td>0.000812</td>\n",
       "      <td>4</td>\n",
       "      <td>NOD2_E3.10614.10681.2.pkl</td>\n",
       "    </tr>\n",
       "  </tbody>\n",
       "</table>\n",
       "</div>"
      ],
      "text/plain": [
       "   Unnamed: 0                                      left_proteins  \\\n",
       "0           0  ['INS1_MOUSE', 'INS1_MOUSE', 'INS1_MOUSE', 'IN...   \n",
       "1           1                                     ['INS2_MOUSE']   \n",
       "2           2  ['ERP44_MOUSE', 'ERP44_MOUSE', 'ERP44_MOUSE', ...   \n",
       "3           3  ['INS1_MOUSE', 'INS1_MOUSE', 'INS1_MOUSE', 'IN...   \n",
       "4           4  ['INS1_MOUSE', 'INS1_MOUSE', 'INS1_MOUSE', 'IN...   \n",
       "\n",
       "                                      right_proteins  \\\n",
       "0  ['ERP44_MOUSE', 'ERP44_MOUSE', 'ERP44_MOUSE', ...   \n",
       "1                                     ['INS2_MOUSE']   \n",
       "2  ['CMGA_MOUSE', 'CMGA_MOUSE', 'CMGA_MOUSE', 'CM...   \n",
       "3  ['CMGA_MOUSE', 'CMGA_MOUSE', 'CMGA_MOUSE', 'CM...   \n",
       "4  ['IAPP_MOUSE', 'IAPP_MOUSE', 'IAPP_MOUSE', 'IA...   \n",
       "\n",
       "                           sequence                    hybrid_sequence  \\\n",
       "0                         DLQTLALIL                         DLQTLAL-IL   \n",
       "1  DPQVAQLELGGGPGAGDLQTAQLELGGGPGAG  DPQVAQLELGGGPGAGDLQT-AQLELGGGPGAG   \n",
       "2                       IDPVNSPMTKG                       ID-PVNSPMTKG   \n",
       "3                       DLQTLALWSRM                       DLQTLAL-WSRM   \n",
       "4                       DLQTLALNAAR                       DLQTLAL-NAAR   \n",
       "\n",
       "   b_score  y_score  total_score  precursor_distance  entry name  \\\n",
       "0        6        2          7.0            0.000194           0   \n",
       "1       16        8         20.0            0.505994           1   \n",
       "2        2        5          6.5            0.000452           2   \n",
       "3        5        8         12.5            0.000192           3   \n",
       "4        4        9         12.0            0.000812           4   \n",
       "\n",
       "                          id  \n",
       "0  NOD2_E3.21510.21510.2.pkl  \n",
       "1  NOD2_E3.12771.12902.3.pkl  \n",
       "2    NOD2_E3.7065.7065.2.pkl  \n",
       "3  NOD2_E3.16373.16401.2.pkl  \n",
       "4  NOD2_E3.10614.10681.2.pkl  "
      ]
     },
     "execution_count": 8,
     "metadata": {},
     "output_type": "execute_result"
    }
   ],
   "source": [
    "hdf.head(10)"
   ]
  },
  {
   "cell_type": "code",
   "execution_count": 9,
   "metadata": {},
   "outputs": [
    {
     "data": {
      "text/html": [
       "<div>\n",
       "<style scoped>\n",
       "    .dataframe tbody tr th:only-of-type {\n",
       "        vertical-align: middle;\n",
       "    }\n",
       "\n",
       "    .dataframe tbody tr th {\n",
       "        vertical-align: top;\n",
       "    }\n",
       "\n",
       "    .dataframe thead th {\n",
       "        text-align: right;\n",
       "    }\n",
       "</style>\n",
       "<table border=\"1\" class=\"dataframe\">\n",
       "  <thead>\n",
       "    <tr style=\"text-align: right;\">\n",
       "      <th></th>\n",
       "      <th>Unnamed: 0</th>\n",
       "      <th>proteins</th>\n",
       "      <th>sequence</th>\n",
       "      <th>b_score</th>\n",
       "      <th>y_score</th>\n",
       "      <th>total_score</th>\n",
       "      <th>precursor_distance</th>\n",
       "      <th>entry name</th>\n",
       "      <th>id</th>\n",
       "    </tr>\n",
       "  </thead>\n",
       "  <tbody>\n",
       "    <tr>\n",
       "      <td>0</td>\n",
       "      <td>0</td>\n",
       "      <td>[]</td>\n",
       "      <td>DLQTLALNARA</td>\n",
       "      <td>4</td>\n",
       "      <td>9</td>\n",
       "      <td>13</td>\n",
       "      <td>0.504749</td>\n",
       "      <td>5</td>\n",
       "      <td>NOD2_E3.10635.10674.3.pkl</td>\n",
       "    </tr>\n",
       "    <tr>\n",
       "      <td>1</td>\n",
       "      <td>1</td>\n",
       "      <td>[]</td>\n",
       "      <td>ELTNIEDL</td>\n",
       "      <td>6</td>\n",
       "      <td>2</td>\n",
       "      <td>8</td>\n",
       "      <td>0.000293</td>\n",
       "      <td>6</td>\n",
       "      <td>NOD2_E3.11427.11516.2.pkl</td>\n",
       "    </tr>\n",
       "    <tr>\n",
       "      <td>2</td>\n",
       "      <td>2</td>\n",
       "      <td>[]</td>\n",
       "      <td>DLQTLALEVE</td>\n",
       "      <td>7</td>\n",
       "      <td>4</td>\n",
       "      <td>11</td>\n",
       "      <td>0.004477</td>\n",
       "      <td>7</td>\n",
       "      <td>NOD2_E3.16920.17393.2.pkl</td>\n",
       "    </tr>\n",
       "  </tbody>\n",
       "</table>\n",
       "</div>"
      ],
      "text/plain": [
       "   Unnamed: 0 proteins     sequence  b_score  y_score  total_score  \\\n",
       "0           0       []  DLQTLALNARA        4        9           13   \n",
       "1           1       []     ELTNIEDL        6        2            8   \n",
       "2           2       []   DLQTLALEVE        7        4           11   \n",
       "\n",
       "   precursor_distance  entry name                         id  \n",
       "0            0.504749           5  NOD2_E3.10635.10674.3.pkl  \n",
       "1            0.000293           6  NOD2_E3.11427.11516.2.pkl  \n",
       "2            0.004477           7  NOD2_E3.16920.17393.2.pkl  "
      ]
     },
     "execution_count": 9,
     "metadata": {},
     "output_type": "execute_result"
    }
   ],
   "source": [
    "df.head(10)"
   ]
  },
  {
   "cell_type": "code",
   "execution_count": 10,
   "metadata": {},
   "outputs": [],
   "source": [
    "import json\n",
    "\n",
    "s = json.load(open(outputDir + 'summary.json', 'r'))"
   ]
  },
  {
   "cell_type": "code",
   "execution_count": null,
   "metadata": {},
   "outputs": [],
   "source": [
    "for i, (k, v) in enumerate(s.items()):\n",
    "    c = correct[i]\n",
    "    print(f'Alignment for spectrum {i} \\t \"correct\": {c} \\n ==============================')\n",
    "    for a in v['alignments']:\n",
    "        print(f'{a[\"sequence\"]}: \\t {a[\"total_score\"]}, \\t {a[\"b_score\"]}, \\t {a[\"y_score\"]}')\n",
    "    print()\n",
    "\n",
    "    "
   ]
  },
  {
   "cell_type": "code",
   "execution_count": null,
   "metadata": {},
   "outputs": [],
   "source": []
  },
  {
   "cell_type": "code",
   "execution_count": 12,
   "metadata": {},
   "outputs": [],
   "source": [
    "from src.sequence.gen_spectra import gen_spectrum"
   ]
  },
  {
   "cell_type": "code",
   "execution_count": 12,
   "metadata": {},
   "outputs": [
    {
     "data": {
      "text/plain": [
       "[72.044390435,\n",
       " 173.09206943499998,\n",
       " 260.12409743499995,\n",
       " 357.176861435,\n",
       " 485.235439435,\n",
       " 598.319503435,\n",
       " 727.362096435,\n",
       " 840.446160435,\n",
       " 897.4676244350001,\n",
       " 954.4890884350001,\n",
       " 1041.521116435,\n",
       " 1138.573880435,\n",
       " 1195.595344435]"
      ]
     },
     "execution_count": 12,
     "metadata": {},
     "output_type": "execute_result"
    }
   ],
   "source": [
    "seq1 = 'QVEQLELGGSPG'\n",
    "seq2 = 'ATSPQLELGGSPG'\n",
    "\n",
    "gen_spectrum(seq2, ion='b', charge=1)['spectrum']"
   ]
  },
  {
   "cell_type": "code",
   "execution_count": null,
   "metadata": {},
   "outputs": [],
   "source": []
  }
 ],
 "metadata": {
  "kernelspec": {
   "display_name": "Python 3",
   "language": "python",
   "name": "python3"
  },
  "language_info": {
   "codemirror_mode": {
    "name": "ipython",
    "version": 3
   },
   "file_extension": ".py",
   "mimetype": "text/x-python",
   "name": "python",
   "nbconvert_exporter": "python",
   "pygments_lexer": "ipython3",
   "version": "3.7.4"
  }
 },
 "nbformat": 4,
 "nbformat_minor": 4
}
